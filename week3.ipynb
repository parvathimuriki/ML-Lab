{
 "cells": [
  {
   "cell_type": "code",
   "execution_count": 3,
   "id": "4df8b1b1",
   "metadata": {},
   "outputs": [
    {
     "data": {
      "text/html": [
       "<div>\n",
       "<style scoped>\n",
       "    .dataframe tbody tr th:only-of-type {\n",
       "        vertical-align: middle;\n",
       "    }\n",
       "\n",
       "    .dataframe tbody tr th {\n",
       "        vertical-align: top;\n",
       "    }\n",
       "\n",
       "    .dataframe thead th {\n",
       "        text-align: right;\n",
       "    }\n",
       "</style>\n",
       "<table border=\"1\" class=\"dataframe\">\n",
       "  <thead>\n",
       "    <tr style=\"text-align: right;\">\n",
       "      <th></th>\n",
       "      <th>TV</th>\n",
       "      <th>Sales</th>\n",
       "    </tr>\n",
       "  </thead>\n",
       "  <tbody>\n",
       "    <tr>\n",
       "      <th>0</th>\n",
       "      <td>230.1</td>\n",
       "      <td>22.1</td>\n",
       "    </tr>\n",
       "    <tr>\n",
       "      <th>1</th>\n",
       "      <td>44.5</td>\n",
       "      <td>10.4</td>\n",
       "    </tr>\n",
       "    <tr>\n",
       "      <th>2</th>\n",
       "      <td>17.2</td>\n",
       "      <td>9.3</td>\n",
       "    </tr>\n",
       "    <tr>\n",
       "      <th>3</th>\n",
       "      <td>151.5</td>\n",
       "      <td>18.5</td>\n",
       "    </tr>\n",
       "    <tr>\n",
       "      <th>4</th>\n",
       "      <td>180.8</td>\n",
       "      <td>12.9</td>\n",
       "    </tr>\n",
       "  </tbody>\n",
       "</table>\n",
       "</div>"
      ],
      "text/plain": [
       "      TV  Sales\n",
       "0  230.1   22.1\n",
       "1   44.5   10.4\n",
       "2   17.2    9.3\n",
       "3  151.5   18.5\n",
       "4  180.8   12.9"
      ]
     },
     "execution_count": 3,
     "metadata": {},
     "output_type": "execute_result"
    }
   ],
   "source": [
    "#1. Import dataset and display first 5 rows\n",
    "import pandas as pd\n",
    "df=pd.read_csv(\"tvmarketing.csv\")\n",
    "df.head()"
   ]
  },
  {
   "cell_type": "code",
   "execution_count": 4,
   "id": "dc1973af",
   "metadata": {},
   "outputs": [
    {
     "data": {
      "text/plain": [
       "TV       float64\n",
       "Sales    float64\n",
       "dtype: object"
      ]
     },
     "execution_count": 4,
     "metadata": {},
     "output_type": "execute_result"
    }
   ],
   "source": [
    "#2. Check column data types\n",
    "df.dtypes"
   ]
  },
  {
   "cell_type": "code",
   "execution_count": 4,
   "id": "8b957c63",
   "metadata": {},
   "outputs": [
    {
     "data": {
      "text/plain": [
       "(200, 2)"
      ]
     },
     "execution_count": 4,
     "metadata": {},
     "output_type": "execute_result"
    }
   ],
   "source": [
    "#Check the shape of the Data Frame (rows, columns)\n",
    "df.shape"
   ]
  },
  {
   "cell_type": "code",
   "execution_count": 5,
   "id": "4b2be27a",
   "metadata": {},
   "outputs": [
    {
     "data": {
      "text/html": [
       "<div>\n",
       "<style scoped>\n",
       "    .dataframe tbody tr th:only-of-type {\n",
       "        vertical-align: middle;\n",
       "    }\n",
       "\n",
       "    .dataframe tbody tr th {\n",
       "        vertical-align: top;\n",
       "    }\n",
       "\n",
       "    .dataframe thead th {\n",
       "        text-align: right;\n",
       "    }\n",
       "</style>\n",
       "<table border=\"1\" class=\"dataframe\">\n",
       "  <thead>\n",
       "    <tr style=\"text-align: right;\">\n",
       "      <th></th>\n",
       "      <th>TV</th>\n",
       "      <th>Sales</th>\n",
       "    </tr>\n",
       "  </thead>\n",
       "  <tbody>\n",
       "    <tr>\n",
       "      <th>count</th>\n",
       "      <td>200.000000</td>\n",
       "      <td>200.000000</td>\n",
       "    </tr>\n",
       "    <tr>\n",
       "      <th>mean</th>\n",
       "      <td>147.042500</td>\n",
       "      <td>14.022500</td>\n",
       "    </tr>\n",
       "    <tr>\n",
       "      <th>std</th>\n",
       "      <td>85.854236</td>\n",
       "      <td>5.217457</td>\n",
       "    </tr>\n",
       "    <tr>\n",
       "      <th>min</th>\n",
       "      <td>0.700000</td>\n",
       "      <td>1.600000</td>\n",
       "    </tr>\n",
       "    <tr>\n",
       "      <th>25%</th>\n",
       "      <td>74.375000</td>\n",
       "      <td>10.375000</td>\n",
       "    </tr>\n",
       "    <tr>\n",
       "      <th>50%</th>\n",
       "      <td>149.750000</td>\n",
       "      <td>12.900000</td>\n",
       "    </tr>\n",
       "    <tr>\n",
       "      <th>75%</th>\n",
       "      <td>218.825000</td>\n",
       "      <td>17.400000</td>\n",
       "    </tr>\n",
       "    <tr>\n",
       "      <th>max</th>\n",
       "      <td>296.400000</td>\n",
       "      <td>27.000000</td>\n",
       "    </tr>\n",
       "  </tbody>\n",
       "</table>\n",
       "</div>"
      ],
      "text/plain": [
       "               TV       Sales\n",
       "count  200.000000  200.000000\n",
       "mean   147.042500   14.022500\n",
       "std     85.854236    5.217457\n",
       "min      0.700000    1.600000\n",
       "25%     74.375000   10.375000\n",
       "50%    149.750000   12.900000\n",
       "75%    218.825000   17.400000\n",
       "max    296.400000   27.000000"
      ]
     },
     "execution_count": 5,
     "metadata": {},
     "output_type": "execute_result"
    }
   ],
   "source": [
    "#Look at summary statistics\n",
    "df.describe()"
   ]
  },
  {
   "cell_type": "code",
   "execution_count": 33,
   "id": "9b52e3ad",
   "metadata": {},
   "outputs": [
    {
     "data": {
      "image/png": "[encoded data removed]",
      "text/plain": [
       "<Figure size 576x360 with 1 Axes>"
      ]
     },
     "metadata": {
      "needs_background": "light"
     },
     "output_type": "display_data"
    }
   ],
   "source": [
    "#Visualize the relationship between the features and the dependent variable using scatterplots\n",
    "import matplotlib.pyplot as plt\n",
    "import seaborn as sns\n",
    "plt.figure(figsize=(8,5))\n",
    "sns.scatterplot(x=df['TV'],y=df['Sales'])\n",
    "plt.xlabel(\"TV\")\n",
    "plt.ylabel(\"Sales\")\n",
    "plt.show()"
   ]
  },
  {
   "cell_type": "code",
   "execution_count": 9,
   "id": "f468ad78",
   "metadata": {},
   "outputs": [
    {
     "name": "stdout",
     "output_type": "stream",
     "text": [
      "0      230.1\n",
      "1       44.5\n",
      "2       17.2\n",
      "3      151.5\n",
      "4      180.8\n",
      "       ...  \n",
      "195     38.2\n",
      "196     94.2\n",
      "197    177.0\n",
      "198    283.6\n",
      "199    232.1\n",
      "Name: TV, Length: 200, dtype: float64\n",
      "0      22.1\n",
      "1      10.4\n",
      "2       9.3\n",
      "3      18.5\n",
      "4      12.9\n",
      "       ... \n",
      "195     7.6\n",
      "196     9.7\n",
      "197    12.8\n",
      "198    25.5\n",
      "199    13.4\n",
      "Name: Sales, Length: 200, dtype: float64\n"
     ]
    }
   ],
   "source": [
    "#Prepare X (feature variables) and y (response variable\n",
    "print(df['TV'])\n",
    "print(df['Sales'])"
   ]
  },
  {
   "cell_type": "code",
   "execution_count": 4,
   "id": "1c27ffe0",
   "metadata": {},
   "outputs": [
    {
     "name": "stdout",
     "output_type": "stream",
     "text": [
      "49      66.9\n",
      "64     131.1\n",
      "50     199.8\n",
      "99     135.2\n",
      "155      4.1\n",
      "       ...  \n",
      "171    164.5\n",
      "132      8.4\n",
      "183    287.6\n",
      "73     129.4\n",
      "105    137.9\n",
      "Name: TV, Length: 140, dtype: float64 43     206.9\n",
      "19     147.3\n",
      "85     193.2\n",
      "144     96.2\n",
      "59     210.7\n",
      "52     216.4\n",
      "189     18.7\n",
      "115     75.1\n",
      "138     43.0\n",
      "120    141.3\n",
      "195     38.2\n",
      "41     177.0\n",
      "122    224.0\n",
      "147    243.2\n",
      "101    296.4\n",
      "57     136.2\n",
      "180    156.6\n",
      "93     250.9\n",
      "121     18.8\n",
      "60      53.5\n",
      "42     293.6\n",
      "18      69.2\n",
      "196     94.2\n",
      "66      31.5\n",
      "116    139.2\n",
      "22      13.2\n",
      "106     25.0\n",
      "63     102.7\n",
      "11     214.7\n",
      "129     59.6\n",
      "188    286.0\n",
      "135     48.3\n",
      "37      74.7\n",
      "86      76.3\n",
      "164    117.2\n",
      "17     281.4\n",
      "32      97.2\n",
      "136     25.6\n",
      "160    172.5\n",
      "62     239.3\n",
      "3      151.5\n",
      "31     112.9\n",
      "182     56.2\n",
      "82      75.3\n",
      "5        8.7\n",
      "168    215.4\n",
      "192     17.2\n",
      "162    188.4\n",
      "146    240.1\n",
      "98     289.7\n",
      "69     216.8\n",
      "20     218.4\n",
      "12      23.8\n",
      "131    265.2\n",
      "161     85.7\n",
      "13      97.5\n",
      "29      70.6\n",
      "176    248.4\n",
      "44      25.1\n",
      "10      66.1\n",
      "Name: TV, dtype: float64 49      9.7\n",
      "64     18.0\n",
      "50     11.4\n",
      "99     17.2\n",
      "155     3.2\n",
      "       ... \n",
      "171    14.5\n",
      "132     5.7\n",
      "183    26.2\n",
      "73     11.0\n",
      "105    19.2\n",
      "Name: Sales, Length: 140, dtype: float64 43     12.9\n",
      "19     14.6\n",
      "85     15.2\n",
      "144    11.4\n",
      "59     18.4\n",
      "52     22.6\n",
      "189     6.7\n",
      "115    12.6\n",
      "138     9.6\n",
      "120    15.5\n",
      "195     7.6\n",
      "41     17.1\n",
      "122    11.6\n",
      "147    25.4\n",
      "101    23.8\n",
      "57     13.2\n",
      "180    10.5\n",
      "93     22.2\n",
      "121     7.0\n",
      "60      8.1\n",
      "42     20.7\n",
      "18     11.3\n",
      "196     9.7\n",
      "66      9.5\n",
      "116    12.2\n",
      "22      5.6\n",
      "106     7.2\n",
      "63     14.0\n",
      "11     17.4\n",
      "129     9.7\n",
      "188    15.9\n",
      "135    11.6\n",
      "37     14.7\n",
      "86     12.0\n",
      "164    11.9\n",
      "17     24.4\n",
      "32      9.6\n",
      "136     9.5\n",
      "160    14.4\n",
      "62     15.7\n",
      "3      18.5\n",
      "31     11.9\n",
      "182     8.7\n",
      "82     11.3\n",
      "5       7.2\n",
      "168    17.1\n",
      "192     5.9\n",
      "162    14.9\n",
      "146    13.2\n",
      "98     25.4\n",
      "69     22.3\n",
      "20     18.0\n",
      "12      9.2\n",
      "131    12.7\n",
      "161    13.3\n",
      "13      9.7\n",
      "29     10.5\n",
      "176    20.2\n",
      "44      8.5\n",
      "10      8.6\n",
      "Name: Sales, dtype: float64\n"
     ]
    }
   ],
   "source": [
    "#Split Data into Training and Testing Sets (70%-Train 30%-Test) - X_train,y_train, X_test, y_test\n",
    "from sklearn.model_selection import train_test_split\n",
    "X=df['TV']\n",
    "Y=df['Sales']\n",
    "x_train,x_test,y_train,y_test=train_test_split(X,Y,test_size=0.30)\n",
    "print(x_train,x_test,y_train,y_test)"
   ]
  },
  {
   "cell_type": "code",
   "execution_count": 32,
   "id": "2eaf2acb",
   "metadata": {},
   "outputs": [
    {
     "name": "stdout",
     "output_type": "stream",
     "text": [
      "(140,)\n",
      "(60,)\n",
      "(140,)\n",
      "(60,)\n"
     ]
    }
   ],
   "source": [
    "#Print the shape of train data and test dat\n",
    "print(x_train.shape)\n",
    "print(x_test.shape)\n",
    "print(y_train.shape)\n",
    "print(y_test.shape)"
   ]
  },
  {
   "cell_type": "code",
   "execution_count": 12,
   "id": "1252385b",
   "metadata": {},
   "outputs": [
    {
     "name": "stdout",
     "output_type": "stream",
     "text": [
      "Intercept : 7.113144353318575\n",
      "coefficient : [0.04681371]\n"
     ]
    }
   ],
   "source": [
    "#Perform Linear Regression (on train data) without using any library and print the coefficients values\n",
    "import numpy as np\n",
    "\n",
    "x_b=np.c_[np.ones((x_train.shape[0],1)),x_train]\n",
    "\n",
    "theta=np.linalg.inv(x_b.T @ x_b) @ x_b.T @ y_train\n",
    "print(\"Intercept :\",theta[0])\n",
    "print(\"coefficient :\",theta[1:])"
   ]
  },
  {
   "cell_type": "code",
   "execution_count": 13,
   "id": "454d8266",
   "metadata": {},
   "outputs": [
    {
     "name": "stdout",
     "output_type": "stream",
     "text": [
      "predicted Sales values: [10.24498139 13.25042142 16.46652314 13.44235762  7.30508055]\n"
     ]
    }
   ],
   "source": [
    "#Create the model using the calculated coefficients and make predictions on\n",
    "#the testing set\n",
    "x_b=np.c_[np.ones((x_train.shape[0],1)),x_train]\n",
    "y_pred=x_b.dot(theta)\n",
    "print(\"predicted Sales values:\",y_pred[:5])"
   ]
  },
  {
   "cell_type": "code",
   "execution_count": 6,
   "id": "1a7c1902",
   "metadata": {},
   "outputs": [
    {
     "name": "stdout",
     "output_type": "stream",
     "text": [
      "intercept: 6.961398871880793\n",
      "coefficinet: 0.049883137791087585\n",
      "ye predictions of model is: [[15.72586618]\n",
      " [18.93834026]\n",
      " [ 8.53271771]\n",
      " [19.01815328]\n",
      " [16.62376266]]\n"
     ]
    }
   ],
   "source": [
    "#.Perform Linear Regression using library(sklearn)\n",
    "#Print the intercept and coefficients\n",
    "#Make predictions on the testing set - y_pred\n",
    "from sklearn.linear_model import LinearRegression\n",
    "import numpy as np\n",
    "model=LinearRegression()\n",
    "x_train=np.array(x_train).reshape(-1,1)\n",
    "y_train=np.array(y_train).reshape(-1,1)\n",
    "y_pred=model.fit(x_train,y_train)\n",
    "print(\"intercept:\",model.intercept_[0])\n",
    "print(\"coefficinet:\",model.coef_[0][0])\n",
    "x_test=x_test.to_numpy().reshape(-1,1)\n",
    "y_pred=model.predict(x_test)\n",
    "print(\"ye predictions of model is:\",y_pred[:5])"
   ]
  },
  {
   "cell_type": "code",
   "execution_count": 18,
   "id": "67e7318a",
   "metadata": {},
   "outputs": [
    {
     "name": "stdout",
     "output_type": "stream",
     "text": [
      "7.113144353318581\n",
      "0.04681370762689101\n"
     ]
    }
   ],
   "source": [
    "from sklearn.linear_model import LinearRegression\n",
    "import numpy as np\n",
    "model=LinearRegression()\n",
    "x_train=np.array(x_train).reshape(-1,1)\n",
    "y_train=np.array(y_train).reshape(-1,1)\n",
    "y_pred=model.fit(x_train,y_train)\n",
    "print(model.intercept_[0])\n",
    "print(model.coef_[0][0])"
   ]
  },
  {
   "cell_type": "code",
   "execution_count": 27,
   "id": "d61f6a8d",
   "metadata": {},
   "outputs": [
    {
     "name": "stdout",
     "output_type": "stream",
     "text": [
      "[[ 7.78642412]\n",
      " [11.06456647]\n",
      " [19.8601801 ]\n",
      " [11.64277394]\n",
      " [13.44599724]]\n"
     ]
    }
   ],
   "source": [
    "print(y_pred[:5])"
   ]
  },
  {
   "cell_type": "code",
   "execution_count": 30,
   "id": "c0372f44",
   "metadata": {},
   "outputs": [
    {
     "name": "stdout",
     "output_type": "stream",
     "text": [
      "6.865212220411539\n"
     ]
    }
   ],
   "source": [
    "print(model.intercept_[0])"
   ]
  },
  {
   "cell_type": "code",
   "execution_count": 31,
   "id": "80d30e77",
   "metadata": {},
   "outputs": [
    {
     "name": "stdout",
     "output_type": "stream",
     "text": [
      "0.04900063302731314\n"
     ]
    }
   ],
   "source": [
    "print(model.coef_[0][0])"
   ]
  },
  {
   "cell_type": "code",
   "execution_count": 38,
   "id": "626c5683",
   "metadata": {},
   "outputs": [
    {
     "data": {
      "image/png": "[encoded data removed]",
      "text/plain": [
       "<Figure size 576x432 with 1 Axes>"
      ]
     },
     "metadata": {
      "needs_background": "light"
     },
     "output_type": "display_data"
    }
   ],
   "source": [
    "#.Plot train data and the model\n",
    "y_train_pred=model.predict(x_train)\n",
    "plt.figure(figsize=(8,6))\n",
    "plt.scatter(x_train,y_train,color='green')\n",
    "plt.plot(x_train,y_train_pred,color='red')\n",
    "plt.show()"
   ]
  },
  {
   "cell_type": "code",
   "execution_count": 40,
   "id": "fe04b2ab",
   "metadata": {},
   "outputs": [
    {
     "data": {
      "image/png": "[encoded data removed]",
      "text/plain": [
       "<Figure size 576x360 with 1 Axes>"
      ]
     },
     "metadata": {
      "needs_background": "light"
     },
     "output_type": "display_data"
    }
   ],
   "source": [
    "#Plot test data and the mode\n",
    "y_test_pred=model.predict(x_test)\n",
    "plt.figure(figsize=(8,5))\n",
    "plt.scatter(x_test,y_test,color='blue')\n",
    "plt.plot(x_test,y_test_pred,color='black')\n",
    "plt.show()"
   ]
  },
  {
   "cell_type": "code",
   "execution_count": 11,
   "id": "4effdaa3",
   "metadata": {},
   "outputs": [
    {
     "name": "stdout",
     "output_type": "stream",
     "text": [
      "mean square error: 0.0\n",
      "r2 value: 1.0\n"
     ]
    }
   ],
   "source": [
    "#Print Mean Squared Error and R Squared Value\n",
    "from sklearn.metrics import mean_squared_error,r2_score\n",
    "\n",
    "y_test=np.array(y_test).flatten()\n",
    "y_pred=np.array(y_pred).flatten()\n",
    "\n",
    "mse=mean_squared_error(y_test,y_pred)\n",
    "r2=r2_score(y_test,y_pred)\n",
    "print(\"mean square error:\",mse)\n",
    "print(\"r2 value:\",r2)"
   ]
  },
  {
   "cell_type": "code",
   "execution_count": 26,
   "id": "fdb015da",
   "metadata": {},
   "outputs": [
    {
     "name": "stdout",
     "output_type": "stream",
     "text": [
      "56.95679707560726 -1.1725003252447976\n"
     ]
    }
   ],
   "source": [
    "#Calculate and print R Squared and Adjusted R Squared values without any library\n",
    "from sklearn.metrics import mean_squared_error,r2_score\n",
    "from sklearn.linear_model import LinearRegression\n",
    "model=LinearRegression()\n",
    "model.fit(x_train,y_train)\n",
    "x_test=np.array(y_test).reshape(-1,1)\n",
    "y_pred=model.predict(x_test)\n",
    "y_pred=np.array(y_pred).reshape(-1,1)\n",
    "\n",
    "mse=mean_squared_error(y_test,y_pred)\n",
    "r2=r2_score(y_test,y_pred)\n",
    "print(mse,r2)"
   ]
  },
  {
   "cell_type": "code",
   "execution_count": 12,
   "id": "c43c5c91",
   "metadata": {},
   "outputs": [
    {
     "name": "stdout",
     "output_type": "stream",
     "text": [
      "Mean Squared Error: 0.0\n",
      "R² Score: 1.0\n"
     ]
    }
   ],
   "source": [
    "from sklearn.metrics import mean_squared_error, r2_score\n",
    "import numpy as np  # Ensure NumPy is imported\n",
    "\n",
    "# Flattening the arrays in case they are not 1D\n",
    "y_test = np.array(y_test).flatten()\n",
    "y_pred = np.array(y_pred).flatten()\n",
    "\n",
    "# Calculating metrics\n",
    "mse = mean_squared_error(y_test, y_pred)\n",
    "r2 = r2_score(y_test, y_pred)\n",
    "\n",
    "# Printing results\n",
    "print(\"Mean Squared Error:\", mse)\n",
    "print(\"R² Score:\", r2)"
   ]
  },
  {
   "cell_type": "code",
   "execution_count": null,
   "id": "b56a0eac",
   "metadata": {},
   "outputs": [],
   "source": []
  }
 ],
 "metadata": {
  "kernelspec": {
   "display_name": "Python 3",
   "language": "python",
   "name": "python3"
  },
  "language_info": {
   "codemirror_mode": {
    "name": "ipython",
    "version": 3
   },
   "file_extension": ".py",
   "mimetype": "text/x-python",
   "name": "python",
   "nbconvert_exporter": "python",
   "pygments_lexer": "ipython3",
   "version": "3.8.10"
  }
 },
 "nbformat": 4,
 "nbformat_minor": 5
}

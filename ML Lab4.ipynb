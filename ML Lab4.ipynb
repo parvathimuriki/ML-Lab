{
 "cells": [
  {
   "cell_type": "markdown",
   "id": "5364fab5",
   "metadata": {
    "id": "b70a432c-3c27-428d-b2bd-e0a2464eb612"
   },
   "source": [
    "## Housing Case Study\n",
    "Problem Statement:\n",
    "\n",
    "Consider a real estate company that has a dataset containing the prices of properties in the Delhi region. It wishes to use the data to optimise the sale prices of the properties based on important factors such as area, bedrooms, parking, etc.\n",
    "\n",
    "Essentially, the company wants —\n",
    "\n",
    "To identify the variables affecting house prices, e.g. area, number of rooms, bathrooms, etc.\n",
    "\n",
    "To create a linear model that quantitatively relates house prices with variables such as number of rooms, area, number of bathrooms, etc.\n",
    "\n",
    "To know the accuracy of the model, i.e. how well these variables can predict house prices."
   ]
  },
  {
   "cell_type": "code",
   "execution_count": 24,
   "id": "42178f78",
   "metadata": {
    "id": "e13c132d-b22a-4ada-b425-ace2d957fb5b",
    "outputId": "bcea1acc-7a3c-4c73-ec8b-e554e96bcf33"
   },
   "outputs": [
    {
     "data": {
      "text/html": [
       "<div>\n",
       "<style scoped>\n",
       "    .dataframe tbody tr th:only-of-type {\n",
       "        vertical-align: middle;\n",
       "    }\n",
       "\n",
       "    .dataframe tbody tr th {\n",
       "        vertical-align: top;\n",
       "    }\n",
       "\n",
       "    .dataframe thead th {\n",
       "        text-align: right;\n",
       "    }\n",
       "</style>\n",
       "<table border=\"1\" class=\"dataframe\">\n",
       "  <thead>\n",
       "    <tr style=\"text-align: right;\">\n",
       "      <th></th>\n",
       "      <th>price</th>\n",
       "      <th>area</th>\n",
       "      <th>bedrooms</th>\n",
       "      <th>bathrooms</th>\n",
       "      <th>stories</th>\n",
       "      <th>mainroad</th>\n",
       "      <th>guestroom</th>\n",
       "      <th>basement</th>\n",
       "      <th>hotwaterheating</th>\n",
       "      <th>airconditioning</th>\n",
       "      <th>parking</th>\n",
       "      <th>prefarea</th>\n",
       "      <th>furnishingstatus</th>\n",
       "    </tr>\n",
       "  </thead>\n",
       "  <tbody>\n",
       "    <tr>\n",
       "      <th>0</th>\n",
       "      <td>13300000</td>\n",
       "      <td>7420</td>\n",
       "      <td>4</td>\n",
       "      <td>2</td>\n",
       "      <td>3</td>\n",
       "      <td>yes</td>\n",
       "      <td>no</td>\n",
       "      <td>no</td>\n",
       "      <td>no</td>\n",
       "      <td>yes</td>\n",
       "      <td>2</td>\n",
       "      <td>yes</td>\n",
       "      <td>furnished</td>\n",
       "    </tr>\n",
       "    <tr>\n",
       "      <th>1</th>\n",
       "      <td>12250000</td>\n",
       "      <td>8960</td>\n",
       "      <td>4</td>\n",
       "      <td>4</td>\n",
       "      <td>4</td>\n",
       "      <td>yes</td>\n",
       "      <td>no</td>\n",
       "      <td>no</td>\n",
       "      <td>no</td>\n",
       "      <td>yes</td>\n",
       "      <td>3</td>\n",
       "      <td>no</td>\n",
       "      <td>furnished</td>\n",
       "    </tr>\n",
       "    <tr>\n",
       "      <th>2</th>\n",
       "      <td>12250000</td>\n",
       "      <td>9960</td>\n",
       "      <td>3</td>\n",
       "      <td>2</td>\n",
       "      <td>2</td>\n",
       "      <td>yes</td>\n",
       "      <td>no</td>\n",
       "      <td>yes</td>\n",
       "      <td>no</td>\n",
       "      <td>no</td>\n",
       "      <td>2</td>\n",
       "      <td>yes</td>\n",
       "      <td>semi-furnished</td>\n",
       "    </tr>\n",
       "    <tr>\n",
       "      <th>3</th>\n",
       "      <td>12215000</td>\n",
       "      <td>7500</td>\n",
       "      <td>4</td>\n",
       "      <td>2</td>\n",
       "      <td>2</td>\n",
       "      <td>yes</td>\n",
       "      <td>no</td>\n",
       "      <td>yes</td>\n",
       "      <td>no</td>\n",
       "      <td>yes</td>\n",
       "      <td>3</td>\n",
       "      <td>yes</td>\n",
       "      <td>furnished</td>\n",
       "    </tr>\n",
       "    <tr>\n",
       "      <th>4</th>\n",
       "      <td>11410000</td>\n",
       "      <td>7420</td>\n",
       "      <td>4</td>\n",
       "      <td>1</td>\n",
       "      <td>2</td>\n",
       "      <td>yes</td>\n",
       "      <td>yes</td>\n",
       "      <td>yes</td>\n",
       "      <td>no</td>\n",
       "      <td>yes</td>\n",
       "      <td>2</td>\n",
       "      <td>no</td>\n",
       "      <td>furnished</td>\n",
       "    </tr>\n",
       "    <tr>\n",
       "      <th>...</th>\n",
       "      <td>...</td>\n",
       "      <td>...</td>\n",
       "      <td>...</td>\n",
       "      <td>...</td>\n",
       "      <td>...</td>\n",
       "      <td>...</td>\n",
       "      <td>...</td>\n",
       "      <td>...</td>\n",
       "      <td>...</td>\n",
       "      <td>...</td>\n",
       "      <td>...</td>\n",
       "      <td>...</td>\n",
       "      <td>...</td>\n",
       "    </tr>\n",
       "    <tr>\n",
       "      <th>540</th>\n",
       "      <td>1820000</td>\n",
       "      <td>3000</td>\n",
       "      <td>2</td>\n",
       "      <td>1</td>\n",
       "      <td>1</td>\n",
       "      <td>yes</td>\n",
       "      <td>no</td>\n",
       "      <td>yes</td>\n",
       "      <td>no</td>\n",
       "      <td>no</td>\n",
       "      <td>2</td>\n",
       "      <td>no</td>\n",
       "      <td>unfurnished</td>\n",
       "    </tr>\n",
       "    <tr>\n",
       "      <th>541</th>\n",
       "      <td>1767150</td>\n",
       "      <td>2400</td>\n",
       "      <td>3</td>\n",
       "      <td>1</td>\n",
       "      <td>1</td>\n",
       "      <td>no</td>\n",
       "      <td>no</td>\n",
       "      <td>no</td>\n",
       "      <td>no</td>\n",
       "      <td>no</td>\n",
       "      <td>0</td>\n",
       "      <td>no</td>\n",
       "      <td>semi-furnished</td>\n",
       "    </tr>\n",
       "    <tr>\n",
       "      <th>542</th>\n",
       "      <td>1750000</td>\n",
       "      <td>3620</td>\n",
       "      <td>2</td>\n",
       "      <td>1</td>\n",
       "      <td>1</td>\n",
       "      <td>yes</td>\n",
       "      <td>no</td>\n",
       "      <td>no</td>\n",
       "      <td>no</td>\n",
       "      <td>no</td>\n",
       "      <td>0</td>\n",
       "      <td>no</td>\n",
       "      <td>unfurnished</td>\n",
       "    </tr>\n",
       "    <tr>\n",
       "      <th>543</th>\n",
       "      <td>1750000</td>\n",
       "      <td>2910</td>\n",
       "      <td>3</td>\n",
       "      <td>1</td>\n",
       "      <td>1</td>\n",
       "      <td>no</td>\n",
       "      <td>no</td>\n",
       "      <td>no</td>\n",
       "      <td>no</td>\n",
       "      <td>no</td>\n",
       "      <td>0</td>\n",
       "      <td>no</td>\n",
       "      <td>furnished</td>\n",
       "    </tr>\n",
       "    <tr>\n",
       "      <th>544</th>\n",
       "      <td>1750000</td>\n",
       "      <td>3850</td>\n",
       "      <td>3</td>\n",
       "      <td>1</td>\n",
       "      <td>2</td>\n",
       "      <td>yes</td>\n",
       "      <td>no</td>\n",
       "      <td>no</td>\n",
       "      <td>no</td>\n",
       "      <td>no</td>\n",
       "      <td>0</td>\n",
       "      <td>no</td>\n",
       "      <td>unfurnished</td>\n",
       "    </tr>\n",
       "  </tbody>\n",
       "</table>\n",
       "<p>545 rows × 13 columns</p>\n",
       "</div>"
      ],
      "text/plain": [
       "        price  area  bedrooms  bathrooms  stories mainroad guestroom basement  \\\n",
       "0    13300000  7420         4          2        3      yes        no       no   \n",
       "1    12250000  8960         4          4        4      yes        no       no   \n",
       "2    12250000  9960         3          2        2      yes        no      yes   \n",
       "3    12215000  7500         4          2        2      yes        no      yes   \n",
       "4    11410000  7420         4          1        2      yes       yes      yes   \n",
       "..        ...   ...       ...        ...      ...      ...       ...      ...   \n",
       "540   1820000  3000         2          1        1      yes        no      yes   \n",
       "541   1767150  2400         3          1        1       no        no       no   \n",
       "542   1750000  3620         2          1        1      yes        no       no   \n",
       "543   1750000  2910         3          1        1       no        no       no   \n",
       "544   1750000  3850         3          1        2      yes        no       no   \n",
       "\n",
       "    hotwaterheating airconditioning  parking prefarea furnishingstatus  \n",
       "0                no             yes        2      yes        furnished  \n",
       "1                no             yes        3       no        furnished  \n",
       "2                no              no        2      yes   semi-furnished  \n",
       "3                no             yes        3      yes        furnished  \n",
       "4                no             yes        2       no        furnished  \n",
       "..              ...             ...      ...      ...              ...  \n",
       "540              no              no        2       no      unfurnished  \n",
       "541              no              no        0       no   semi-furnished  \n",
       "542              no              no        0       no      unfurnished  \n",
       "543              no              no        0       no        furnished  \n",
       "544              no              no        0       no      unfurnished  \n",
       "\n",
       "[545 rows x 13 columns]"
      ]
     },
     "execution_count": 24,
     "metadata": {},
     "output_type": "execute_result"
    }
   ],
   "source": [
    "#1 Import the dataset (Housing.csv) and look at the top five rows\n",
    "import pandas as pd\n",
    "df = pd.read_csv(\"Housing.csv\")\n",
    "df"
   ]
  },
  {
   "cell_type": "code",
   "execution_count": 14,
   "id": "d9950377",
   "metadata": {
    "id": "0b429f32-4c68-43ad-8fd1-2fe90503fd88"
   },
   "outputs": [
    {
     "data": {
      "text/plain": [
       "(545, 13)"
      ]
     },
     "execution_count": 14,
     "metadata": {},
     "output_type": "execute_result"
    }
   ],
   "source": [
    "#2 Check the shape of the DataFrame (rows, columns)\n",
    "df.shape"
   ]
  },
  {
   "cell_type": "code",
   "execution_count": 15,
   "id": "fc2456a9",
   "metadata": {
    "id": "661fff1a-6c1f-4876-9a5b-c886c0aad902"
   },
   "outputs": [
    {
     "data": {
      "text/plain": [
       "price                int64\n",
       "area                 int64\n",
       "bedrooms             int64\n",
       "bathrooms            int64\n",
       "stories              int64\n",
       "mainroad            object\n",
       "guestroom           object\n",
       "basement            object\n",
       "hotwaterheating     object\n",
       "airconditioning     object\n",
       "parking              int64\n",
       "prefarea            object\n",
       "furnishingstatus    object\n",
       "dtype: object"
      ]
     },
     "execution_count": 15,
     "metadata": {},
     "output_type": "execute_result"
    }
   ],
   "source": [
    "#3 Look at the data types of the columns\n",
    "df.dtypes"
   ]
  },
  {
   "cell_type": "code",
   "execution_count": 16,
   "id": "6e716d09",
   "metadata": {
    "id": "cb86b308-69c4-4aec-a9fd-6d74857468ec"
   },
   "outputs": [
    {
     "data": {
      "text/plain": [
       "price               0\n",
       "area                0\n",
       "bedrooms            0\n",
       "bathrooms           0\n",
       "stories             0\n",
       "mainroad            0\n",
       "guestroom           0\n",
       "basement            0\n",
       "hotwaterheating     0\n",
       "airconditioning     0\n",
       "parking             0\n",
       "prefarea            0\n",
       "furnishingstatus    0\n",
       "dtype: int64"
      ]
     },
     "execution_count": 16,
     "metadata": {},
     "output_type": "execute_result"
    }
   ],
   "source": [
    "#4 Check for missing  values if any, replace with appropriate values\n",
    "df.isnull().sum()"
   ]
  },
  {
   "cell_type": "code",
   "execution_count": 17,
   "id": "a2a53369",
   "metadata": {
    "id": "e03d9624-c3db-4ae4-a7af-bf570b956c19"
   },
   "outputs": [],
   "source": [
    "#5 Prepare  X (independent variables) and y (dependent variable)\n",
    "x=df.drop(columns=['price'])\n",
    "y=df['price']"
   ]
  },
  {
   "cell_type": "code",
   "execution_count": 18,
   "id": "5ef9d51f",
   "metadata": {
    "id": "41009947-bf5b-4e15-beb0-5cfc761d8b7d"
   },
   "outputs": [
    {
     "data": {
      "image/png": "[encoded data removed]",
      "text/plain": [
       "<Figure size 576x360 with 1 Axes>"
      ]
     },
     "metadata": {
      "needs_background": "light"
     },
     "output_type": "display_data"
    }
   ],
   "source": [
    "#6 Visualise the relationship between the independent variables and the depenedent variable using scatterplots\n",
    "import matplotlib.pyplot as plt\n",
    "import seaborn as sns\n",
    "\n",
    "x=df.drop(columns=['price'])\n",
    "y=df['price']\n",
    "\n",
    "plt.figure(figsize=(8,5))\n",
    "for i,col in enumerate(x.columns,1):\n",
    "    #plt.subplots(2,i)\n",
    "    plt.scatter(x[col],y)\n",
    "plt.show()"
   ]
  },
  {
   "cell_type": "code",
   "execution_count": 19,
   "id": "d0d3a2df",
   "metadata": {
    "id": "19f90195-0633-4388-9e6e-9e82ffffd6a1"
   },
   "outputs": [
    {
     "data": {
      "text/plain": [
       "array([0, 0, 1, 0, 0, 1, 1, 2, 0, 2, 0, 1, 1, 0, 1, 1, 2, 0, 0, 1, 1, 2,\n",
       "       0, 0, 0, 0, 1, 1, 2, 1, 2, 1, 0, 2, 0, 0, 0, 0, 2, 1, 0, 0, 2, 1,\n",
       "       0, 1, 0, 0, 2, 1, 2, 2, 0, 1, 1, 2, 1, 0, 1, 0, 1, 1, 0, 0, 0, 0,\n",
       "       0, 2, 0, 0, 1, 2, 2, 0, 0, 1, 0, 0, 0, 0, 1, 1, 0, 1, 1, 0, 2, 1,\n",
       "       2, 0, 1, 0, 0, 1, 1, 1, 0, 1, 2, 2, 2, 2, 1, 0, 0, 2, 1, 2, 1, 1,\n",
       "       1, 2, 0, 0, 0, 1, 2, 0, 0, 1, 0, 1, 1, 0, 0, 1, 2, 2, 0, 1, 2, 1,\n",
       "       1, 2, 1, 2, 2, 1, 1, 0, 2, 1, 1, 2, 0, 0, 1, 1, 1, 1, 2, 1, 0, 1,\n",
       "       1, 0, 1, 0, 1, 0, 0, 1, 1, 1, 0, 2, 2, 1, 0, 1, 1, 1, 2, 2, 2, 1,\n",
       "       0, 1, 1, 1, 1, 0, 1, 1, 0, 2, 0, 1, 2, 1, 0, 1, 0, 1, 1, 1, 1, 1,\n",
       "       1, 0, 1, 1, 1, 1, 1, 1, 1, 1, 1, 2, 1, 0, 1, 1, 2, 2, 1, 0, 1, 2,\n",
       "       1, 1, 1, 0, 2, 1, 1, 0, 1, 1, 1, 1, 0, 2, 1, 1, 1, 1, 1, 0, 1, 1,\n",
       "       0, 0, 1, 2, 1, 2, 1, 0, 1, 1, 1, 0, 1, 2, 0, 0, 1, 0, 0, 1, 1, 1,\n",
       "       1, 1, 2, 1, 1, 2, 0, 1, 1, 0, 1, 0, 1, 1, 1, 0, 2, 0, 2, 0, 0, 1,\n",
       "       0, 2, 2, 1, 1, 2, 1, 2, 1, 1, 1, 2, 1, 0, 1, 1, 2, 0, 1, 1, 1, 1,\n",
       "       1, 1, 1, 1, 0, 1, 1, 1, 2, 2, 1, 1, 0, 1, 0, 1, 1, 1, 2, 1, 1, 0,\n",
       "       2, 0, 1, 1, 0, 0, 1, 2, 1, 0, 1, 1, 0, 1, 1, 1, 1, 2, 1, 1, 1, 1,\n",
       "       2, 0, 0, 0, 0, 0, 1, 2, 1, 1, 0, 1, 1, 0, 0, 2, 1, 0, 1, 1, 1, 0,\n",
       "       1, 2, 1, 2, 1, 2, 1, 1, 0, 0, 0, 2, 2, 1, 2, 1, 2, 1, 1, 2, 2, 2,\n",
       "       1, 0, 2, 1, 2, 2, 2, 2, 2, 2, 2, 0, 2, 2, 2, 0, 2, 2, 2, 0, 2, 0,\n",
       "       2, 1, 2, 2, 2, 2, 1, 0, 0, 0, 2, 2, 2, 2, 0, 1, 1, 2, 0, 2, 1, 2,\n",
       "       2, 2, 2, 2, 0, 0, 2, 1, 1, 2, 1, 1, 1, 2, 2, 2, 1, 2, 2, 2, 2, 2,\n",
       "       1, 2, 1, 2, 1, 1, 1, 0, 2, 2, 1, 2, 2, 1, 2, 2, 2, 2, 1, 0, 2, 1,\n",
       "       2, 2, 1, 2, 2, 1, 2, 0, 2, 0, 2, 2, 2, 2, 1, 2, 2, 2, 1, 1, 2, 2,\n",
       "       2, 2, 2, 0, 2, 2, 0, 2, 1, 2, 2, 2, 2, 2, 2, 2, 0, 0, 2, 2, 2, 1,\n",
       "       2, 2, 2, 2, 2, 2, 2, 2, 2, 2, 2, 2, 2, 1, 2, 0, 2])"
      ]
     },
     "execution_count": 19,
     "metadata": {},
     "output_type": "execute_result"
    }
   ],
   "source": [
    "#7 Encoding categorical data in X\n",
    "from sklearn.preprocessing import LabelEncoder\n",
    "x=df.drop(columns=['furnishingstatus'])\n",
    "y=df['furnishingstatus']\n",
    "le=LabelEncoder()\n",
    "y=le.fit_transform(y)\n",
    "y"
   ]
  },
  {
   "cell_type": "code",
   "execution_count": 20,
   "id": "f4edc96e",
   "metadata": {
    "id": "8b91fa2d-0728-422e-91bf-81c6375b65a4"
   },
   "outputs": [],
   "source": [
    "#8  Avoiding the Dummy Variable Trap"
   ]
  },
  {
   "cell_type": "code",
   "execution_count": 45,
   "id": "ae199fca",
   "metadata": {
    "id": "488d83f7-f328-4710-b8be-d60605f18f41"
   },
   "outputs": [
    {
     "data": {
      "text/plain": [
       "array([[ 4.56636513,  1.04672629,  1.40341936,  1.42181174,  1.37821692,\n",
       "         1.51769249],\n",
       "       [ 4.00448405,  1.75700953,  1.40341936,  5.40580863,  2.53202371,\n",
       "         2.67940935],\n",
       "       [ 4.00448405,  2.21823241,  0.04727831,  1.42181174,  0.22441013,\n",
       "         1.51769249],\n",
       "       ...,\n",
       "       [-1.61432675, -0.70592066, -1.30886273, -0.57018671, -0.92939666,\n",
       "        -0.80574124],\n",
       "       [-1.61432675, -1.03338891,  0.04727831, -0.57018671, -0.92939666,\n",
       "        -0.80574124],\n",
       "       [-1.61432675, -0.5998394 ,  0.04727831, -0.57018671,  0.22441013,\n",
       "        -0.80574124]])"
      ]
     },
     "execution_count": 45,
     "metadata": {},
     "output_type": "execute_result"
    }
   ],
   "source": [
    "#9 Apply feature scaling on numerical variables\n",
    "from sklearn.preprocessing import StandardScaler\n",
    "models=StandardScaler()\n",
    "numerical_cols=['price','area','bedrooms','bathrooms','stories','parking']\n",
    "#numeric_col=pd.to_numeric(numerical_cols,errors='coerce')\n",
    "models.fit_transform(x[numerical_cols])\n"
   ]
  },
  {
   "cell_type": "code",
   "execution_count": 46,
   "id": "24192052",
   "metadata": {
    "id": "1acf2436-7668-4eb9-9b9f-48d4a2976020"
   },
   "outputs": [
    {
     "name": "stdout",
     "output_type": "stream",
     "text": [
      "(381, 12)\n"
     ]
    }
   ],
   "source": [
    "#10 Split Data into Training and Testing Sets (70%-Train 30%-Test) - X_train, y_train, X_test, y_test\n",
    "from sklearn.model_selection import train_test_split\n",
    "x=df.drop(columns=['furnishingstatus'])\n",
    "y=df['furnishingstatus']\n",
    "x_train,x_test,y_train,y_test=train_test_split(x,y,test_size=0.3,random_state=42)\n",
    "print(x_train.shape)"
   ]
  },
  {
   "cell_type": "code",
   "execution_count": 47,
   "id": "72da1c72",
   "metadata": {
    "id": "d011419c-d0e5-4186-8e0d-b5f1d42d3dbd"
   },
   "outputs": [
    {
     "data": {
      "text/html": [
       "<style>#sk-container-id-2 {color: black;}#sk-container-id-2 pre{padding: 0;}#sk-container-id-2 div.sk-toggleable {background-color: white;}#sk-container-id-2 label.sk-toggleable__label {cursor: pointer;display: block;width: 100%;margin-bottom: 0;padding: 0.3em;box-sizing: border-box;text-align: center;}#sk-container-id-2 label.sk-toggleable__label-arrow:before {content: \"▸\";float: left;margin-right: 0.25em;color: #696969;}#sk-container-id-2 label.sk-toggleable__label-arrow:hover:before {color: black;}#sk-container-id-2 div.sk-estimator:hover label.sk-toggleable__label-arrow:before {color: black;}#sk-container-id-2 div.sk-toggleable__content {max-height: 0;max-width: 0;overflow: hidden;text-align: left;background-color: #f0f8ff;}#sk-container-id-2 div.sk-toggleable__content pre {margin: 0.2em;color: black;border-radius: 0.25em;background-color: #f0f8ff;}#sk-container-id-2 input.sk-toggleable__control:checked~div.sk-toggleable__content {max-height: 200px;max-width: 100%;overflow: auto;}#sk-container-id-2 input.sk-toggleable__control:checked~label.sk-toggleable__label-arrow:before {content: \"▾\";}#sk-container-id-2 div.sk-estimator input.sk-toggleable__control:checked~label.sk-toggleable__label {background-color: #d4ebff;}#sk-container-id-2 div.sk-label input.sk-toggleable__control:checked~label.sk-toggleable__label {background-color: #d4ebff;}#sk-container-id-2 input.sk-hidden--visually {border: 0;clip: rect(1px 1px 1px 1px);clip: rect(1px, 1px, 1px, 1px);height: 1px;margin: -1px;overflow: hidden;padding: 0;position: absolute;width: 1px;}#sk-container-id-2 div.sk-estimator {font-family: monospace;background-color: #f0f8ff;border: 1px dotted black;border-radius: 0.25em;box-sizing: border-box;margin-bottom: 0.5em;}#sk-container-id-2 div.sk-estimator:hover {background-color: #d4ebff;}#sk-container-id-2 div.sk-parallel-item::after {content: \"\";width: 100%;border-bottom: 1px solid gray;flex-grow: 1;}#sk-container-id-2 div.sk-label:hover label.sk-toggleable__label {background-color: #d4ebff;}#sk-container-id-2 div.sk-serial::before {content: \"\";position: absolute;border-left: 1px solid gray;box-sizing: border-box;top: 0;bottom: 0;left: 50%;z-index: 0;}#sk-container-id-2 div.sk-serial {display: flex;flex-direction: column;align-items: center;background-color: white;padding-right: 0.2em;padding-left: 0.2em;position: relative;}#sk-container-id-2 div.sk-item {position: relative;z-index: 1;}#sk-container-id-2 div.sk-parallel {display: flex;align-items: stretch;justify-content: center;background-color: white;position: relative;}#sk-container-id-2 div.sk-item::before, #sk-container-id-2 div.sk-parallel-item::before {content: \"\";position: absolute;border-left: 1px solid gray;box-sizing: border-box;top: 0;bottom: 0;left: 50%;z-index: -1;}#sk-container-id-2 div.sk-parallel-item {display: flex;flex-direction: column;z-index: 1;position: relative;background-color: white;}#sk-container-id-2 div.sk-parallel-item:first-child::after {align-self: flex-end;width: 50%;}#sk-container-id-2 div.sk-parallel-item:last-child::after {align-self: flex-start;width: 50%;}#sk-container-id-2 div.sk-parallel-item:only-child::after {width: 0;}#sk-container-id-2 div.sk-dashed-wrapped {border: 1px dashed gray;margin: 0 0.4em 0.5em 0.4em;box-sizing: border-box;padding-bottom: 0.4em;background-color: white;}#sk-container-id-2 div.sk-label label {font-family: monospace;font-weight: bold;display: inline-block;line-height: 1.2em;}#sk-container-id-2 div.sk-label-container {text-align: center;}#sk-container-id-2 div.sk-container {/* jupyter's `normalize.less` sets `[hidden] { display: none; }` but bootstrap.min.css set `[hidden] { display: none !important; }` so we also need the `!important` here to be able to override the default hidden behavior on the sphinx rendered scikit-learn.org. See: https://github.com/scikit-learn/scikit-learn/issues/21755 */display: inline-block !important;position: relative;}#sk-container-id-2 div.sk-text-repr-fallback {display: none;}</style><div id=\"sk-container-id-2\" class=\"sk-top-container\"><div class=\"sk-text-repr-fallback\"><pre>LinearRegression()</pre><b>In a Jupyter environment, please rerun this cell to show the HTML representation or trust the notebook. <br />On GitHub, the HTML representation is unable to render, please try loading this page with nbviewer.org.</b></div><div class=\"sk-container\" hidden><div class=\"sk-item\"><div class=\"sk-estimator sk-toggleable\"><input class=\"sk-toggleable__control sk-hidden--visually\" id=\"sk-estimator-id-2\" type=\"checkbox\" checked><label for=\"sk-estimator-id-2\" class=\"sk-toggleable__label sk-toggleable__label-arrow\">LinearRegression</label><div class=\"sk-toggleable__content\"><pre>LinearRegression()</pre></div></div></div></div></div>"
      ],
      "text/plain": [
       "LinearRegression()"
      ]
     },
     "execution_count": 47,
     "metadata": {},
     "output_type": "execute_result"
    }
   ],
   "source": [
    "from sklearn.linear_model import LinearRegression\n",
    "from sklearn.preprocessing import LabelEncoder\n",
    "from sklearn.model_selection import train_test_split\n",
    "import pandas as pd\n",
    "\n",
    "# Load the dataset\n",
    "#df = pd.read_csv('/mnt/data/Housing.csv')\n",
    "\n",
    "# Separate features and target\n",
    "X = df.drop(columns=['furnishingstatus'])\n",
    "y = df['furnishingstatus']\n",
    "\n",
    "# Encode the target variable\n",
    "le = LabelEncoder()\n",
    "y = le.fit_transform(y)\n",
    "\n",
    "# Encode categorical columns in X\n",
    "X = pd.get_dummies(X, drop_first=True)\n",
    "\n",
    "# Split data into training and testing sets\n",
    "x_train, x_test, y_train, y_test = train_test_split(X, y, test_size=0.2, random_state=0)\n",
    "\n",
    "# Fit the Multiple Linear Regression model\n",
    "model = LinearRegression()\n",
    "model.fit(x_train, y_train)"
   ]
  },
  {
   "cell_type": "code",
   "execution_count": 32,
   "id": "b79b904c",
   "metadata": {
    "id": "2c57f32b-58dc-4a80-839b-b3cfa29ac3c4"
   },
   "outputs": [
    {
     "name": "stdout",
     "output_type": "stream",
     "text": [
      "[-0.48011391 -0.57786435 -0.49412876 -0.57368873  0.27018869  0.3105713\n",
      "  0.11183898 -0.05570949 -0.68167588  0.30401771  0.53830802  1.49175114\n",
      "  0.88754703  0.49043606  0.07352914 -0.71311629 -0.64991866  0.88788008\n",
      " -0.55956481 -1.11524425 -0.96233863  0.13627424  1.31045199 -0.06872902\n",
      " -0.54575762 -0.92324555 -1.22579423 -0.87092669  0.40638724 -0.47130968\n",
      " -0.41332526  0.01009483 -1.02191978 -0.27352987  0.02989764 -0.27495141\n",
      " -1.27304072  0.00672285 -0.25496563 -1.01588797  0.13420455 -0.96938049\n",
      "  0.21752428 -0.53112993 -0.17199322  0.71906003 -0.20953583 -0.4385079\n",
      "  0.25298896  1.26788126 -0.58710916 -0.65709176 -0.75838073 -0.85569988\n",
      " -1.43082757 -0.70211591  0.29085893  0.15878856  0.10043752  0.18701232\n",
      "  0.55676433 -0.70508282  1.0905302  -0.019445    0.42303903  0.77606369\n",
      "  1.35022512 -0.62043539 -0.58816791 -0.69453317 -0.69446503 -0.02808625\n",
      "  0.95107736 -1.20823968  0.14044817  0.25622349  0.05202923 -0.00841831\n",
      " -0.51758822  0.41993249  1.24616229  0.46064804  0.12608705  1.08712447\n",
      " -0.35122013  0.70101723  0.80133491 -0.34437621 -0.93063366  0.91032893\n",
      "  0.02514746  0.0578748  -0.4670443   0.92166001  1.12570205 -0.65925848\n",
      " -0.59039093 -0.14045824  0.29547906  0.04298737 -0.87460744  0.4020445\n",
      " -0.07605511  0.48557732  0.82838683 -0.17002428 -0.49380673 -0.63054893\n",
      "  0.33051095 -0.20725405  0.1028682  -0.87439953 -0.78420904  1.01880984\n",
      " -0.0372391  -0.60419517  0.86076886 -0.51724342  0.15937304  0.74266423\n",
      " -0.16835861 -0.6316654   1.30971357  0.25094637  0.21594762 -0.58351713\n",
      "  0.48906555  0.92598735 -0.59117722 -0.73456838  0.17393158  0.10930837\n",
      "  1.18768922  0.32804594 -1.17445181 -0.00691961  0.06231118 -1.06760577\n",
      "  0.44949989 -0.67097325  0.94911436 -0.0891234  -0.63205183  0.79186092\n",
      "  1.44060705  1.28954571  1.32192756 -0.43174982  1.15282558 -0.68276311\n",
      "  1.4267602   0.25458326 -0.22609502  1.33738947  0.19646935  0.12611285\n",
      "  1.11221094 -1.1343699  -0.23837756 -0.52942611  1.09118003  1.24051015\n",
      "  1.04958306 -0.82065014 -0.69592923  0.13614402 -0.58886171  0.15390504\n",
      "  0.01757677  0.27507627  0.78773003 -0.73562819  0.98674063  0.9397822\n",
      "  0.34893108  0.1663337   0.39167647 -1.11167252 -0.72173119 -0.04452922\n",
      "  0.22575896  0.08127226  0.29719838 -0.54161218 -0.85017939  1.09780445\n",
      " -0.97468269 -1.33108194 -1.34144469  0.36103771  0.80045622 -0.08158397\n",
      "  1.07130014  1.111688   -0.55666705 -0.51225993  1.22952046  0.16990239\n",
      " -0.85937632 -0.79764615  1.08847873  0.30317     0.75348417  0.21350583\n",
      " -0.38635561  0.36650609 -0.57026855 -0.55046994  0.13132646  1.38681732\n",
      "  1.03163891 -0.24664343  0.40546982  0.16644071 -0.06848932  0.36541572\n",
      " -0.6594153   0.03682132 -0.11501845  0.75207437 -0.73225283 -0.80938679\n",
      "  1.02481417 -0.835792   -0.66903999  0.0913808  -0.87241846 -0.65591746\n",
      " -0.0507058   0.02549585  1.09914843 -1.11295808  0.69682014  0.0406533\n",
      "  0.23259523  1.02480381  0.0616899  -1.07374445 -1.08326627 -0.57521426\n",
      "  1.39839702  0.76237217  0.18411317 -0.63763382  0.88782803 -0.80600537\n",
      "  0.320956    0.29462542  0.49334263 -0.80070766 -0.77794013  0.5060688\n",
      "  0.04045443  0.01735483 -0.65789117 -0.02275717  0.03607485  0.78923587\n",
      "  0.42743427 -0.27174811  0.03661521  0.75542078 -1.56620753 -0.79675403\n",
      "  0.95847196 -0.15431367 -0.92038932  0.72048566  0.12532599  1.05794236\n",
      " -0.79879533 -0.5779047  -0.8312661   0.03910189 -0.73994643  0.09192532\n",
      " -0.51219184 -0.48154142 -0.29981037  0.32070034  0.17113113 -0.70192621\n",
      " -0.80790731  0.28848584  0.17424015 -0.62368812  0.09298653 -0.77594741\n",
      "  0.04214868 -0.69077595  1.12030156  1.03144927  0.96668751  0.20715234\n",
      "  0.42307507 -0.63181829  1.18222001  0.33098413 -0.63390131  0.17647809\n",
      "  0.67403386 -0.08784627  0.08401434  0.11568756 -0.63590878  0.31026512\n",
      " -0.52021513 -1.0240776  -0.93364557  0.85672663 -0.00538911 -0.25205629\n",
      "  0.9145391   1.20032676  1.29342909 -1.04393493 -0.83120343 -0.5363586\n",
      " -0.44981617 -0.69089096  1.07776236  0.05236738  0.40383731  0.82382665\n",
      " -0.60057443 -0.61764412 -1.15732647  0.04300947  0.49413048 -0.63592812\n",
      " -0.24033306  0.14565912 -0.65743587  0.1165436   1.09406977  0.03339774\n",
      " -0.74037673  0.46513789  1.37238368 -0.92707164  0.25341519  0.27530152\n",
      "  0.01339276 -0.93913426  0.3075702  -0.16715414  1.30592653  1.04756903\n",
      " -0.01762683  0.11438131 -0.12084503 -0.51736728 -0.10113265  0.21983063\n",
      "  0.95049154  0.13650635 -1.2138385   0.13962193  1.27422361  1.30095082\n",
      "  0.0145842   1.29148326 -0.55873969  1.06834442  0.13142233 -0.92475731\n",
      "  1.19232072 -0.02721381  1.10364067 -0.61211547 -0.07786929 -0.89465522\n",
      "  0.69971682  0.28856887  0.04023104  0.26273112  0.10235851 -0.19540998\n",
      "  1.38641433 -0.1340559  -0.49510552 -0.66753985 -0.63392138 -0.79276923\n",
      "  1.45548565  0.75406402  0.94690032 -0.59293522  0.14067493 -0.1677424\n",
      "  0.30745624 -0.90862648  0.78026506  1.13805513 -0.67240553  0.13390822\n",
      "  1.24398714  0.19922687 -0.33794425 -0.77019258 -1.21396601 -1.00138158\n",
      " -0.71549441  1.04559681  0.99424645 -0.6564603  -0.19998499 -0.63673807\n",
      "  0.84129728 -1.45014006  0.10932538 -0.63380804 -0.51779772 -0.15543063\n",
      "  0.02768505  0.18146479 -0.86962819 -0.71583306  0.07472896  0.06943362\n",
      " -1.19166598  0.23868477 -0.86292979 -0.27993586 -1.04225994 -1.14575676\n",
      " -0.25259664  0.44009134  0.21791767  0.2587198   0.07687298 -0.1088656\n",
      "  0.30651279 -1.50443909 -0.82484087  0.97949541]\n"
     ]
    }
   ],
   "source": [
    "#12 Predict on the train set and calculate the error = y_pred - y_train\n",
    "y_pred=model.predict(x_train)\n",
    "e=y_pred-y_train\n",
    "print(e)"
   ]
  },
  {
   "cell_type": "code",
   "execution_count": 48,
   "id": "089e829c",
   "metadata": {
    "id": "af715af0-0022-4851-b3b0-ffd7898ef2ae"
   },
   "outputs": [
    {
     "data": {
      "image/png": "[encoded data removed]",
      "text/plain": [
       "<Figure size 576x360 with 1 Axes>"
      ]
     },
     "metadata": {
      "needs_background": "light"
     },
     "output_type": "display_data"
    }
   ],
   "source": [
    "#13  Residual plot - plot y_pred in x axis and errors in y axis\n",
    "y_pred=model.predict(x_test)\n",
    "residuals=y_test-y_pred\n",
    "plt.figure(figsize=(8,5))\n",
    "plt.scatter(residuals,y_pred)\n",
    "plt.show()"
   ]
  },
  {
   "cell_type": "code",
   "execution_count": 49,
   "id": "f0fc944c",
   "metadata": {
    "id": "588a7ea5-6745-4930-9d37-8cb25ec48ddb"
   },
   "outputs": [
    {
     "data": {
      "text/plain": [
       "array([1.10328997, 0.90820044, 1.12301795, 0.98320647, 1.40840489])"
      ]
     },
     "execution_count": 49,
     "metadata": {},
     "output_type": "execute_result"
    }
   ],
   "source": [
    "#14  Predic on the test set\n",
    "from sklearn.linear_model import LinearRegression\n",
    "from sklearn.preprocessing import LabelEncoder\n",
    "from sklearn.model_selection import train_test_split\n",
    "import pandas as pd\n",
    "\n",
    "# Load the dataset\n",
    "#df = pd.read_csv('/mnt/data/Housing.csv')\n",
    "\n",
    "# Separate features and target\n",
    "X = df.drop(columns=['furnishingstatus'])\n",
    "y = df['furnishingstatus']\n",
    "\n",
    "# Encode the target variable\n",
    "le = LabelEncoder()\n",
    "y = le.fit_transform(y)\n",
    "\n",
    "# Encode categorical columns in X\n",
    "X = pd.get_dummies(X, drop_first=True)\n",
    "\n",
    "# Split data into training and testing sets\n",
    "x_train, x_test, y_train, y_test = train_test_split(X, y, test_size=0.2, random_state=0)\n",
    "\n",
    "# Fit the Multiple Linear Regression model\n",
    "model = LinearRegression()\n",
    "model.fit(x_train, y_train)\n",
    "\n",
    "y_pred=model.predict(x_test)\n",
    "y_pred[:5]"
   ]
  },
  {
   "cell_type": "code",
   "execution_count": 42,
   "id": "4ce1d11e",
   "metadata": {
    "id": "0e896fc1-af23-4842-b710-223d0982666e"
   },
   "outputs": [],
   "source": [
    "#15 Residual plot - plot y_pred in x axis and errors in y axis\n",
    "\n",
    "#residual=y_test-y_pred\n"
   ]
  },
  {
   "cell_type": "code",
   "execution_count": 43,
   "id": "aac32ac7",
   "metadata": {
    "id": "aabaab50-706c-413f-ab29-47ede66917b1"
   },
   "outputs": [
    {
     "name": "stdout",
     "output_type": "stream",
     "text": [
      "0.5817024160788753 -10.183181885814085\n"
     ]
    }
   ],
   "source": [
    "#16 Print Mean Squared Error and R Squared Value\n",
    "import numpy as np\n",
    "mse=np.mean((y_test-y_pred)**2)\n",
    "numerator=np.sum((y_test-y_pred)**2)\n",
    "denominator=np.sum(y_test-np.mean(y_test)**2)\n",
    "r2=1-numerator/denominator\n",
    "print(mse,r2)"
   ]
  },
  {
   "cell_type": "code",
   "execution_count": 44,
   "id": "53c30fa8",
   "metadata": {
    "id": "89e98b63-04b7-4a82-b324-6108cf4cd79a"
   },
   "outputs": [
    {
     "name": "stdout",
     "output_type": "stream",
     "text": [
      "-11.581079621540844\n",
      "-11.451377769772382\n",
      "-11.324322894570622\n",
      "-11.199834784524455\n",
      "-11.077836436679211\n",
      "-10.958253897702189\n",
      "-10.841016114391383\n",
      "-10.726054792892437\n",
      "-10.613304266037703\n",
      "-10.502701368265916\n",
      "-10.394185317621897\n"
     ]
    }
   ],
   "source": [
    "#17 Check  Adjusted R Squared Value(by selecting different no of input variables insted of a\n",
    "k=len(x.columns)\n",
    "n=len(y_test)\n",
    "for i in range(k,1,-1):\n",
    "    Adj_r2=1-(((1-r2)*(n-1))/(n-i-1))\n",
    "    print(Adj_r2)"
   ]
  },
  {
   "cell_type": "code",
   "execution_count": null,
   "id": "dca72d4a",
   "metadata": {},
   "outputs": [],
   "source": []
  }
 ],
 "metadata": {
  "colab": {
   "provenance": []
  },
  "kernelspec": {
   "display_name": "Python 3",
   "language": "python",
   "name": "python3"
  },
  "language_info": {
   "codemirror_mode": {
    "name": "ipython",
    "version": 3
   },
   "file_extension": ".py",
   "mimetype": "text/x-python",
   "name": "python",
   "nbconvert_exporter": "python",
   "pygments_lexer": "ipython3",
   "version": "3.8.10"
  }
 },
 "nbformat": 4,
 "nbformat_minor": 5
}

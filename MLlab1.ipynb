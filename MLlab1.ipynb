{
 "cells": [
  {
   "cell_type": "markdown",
   "id": "0b1e39d8",
   "metadata": {},
   "source": [
    "CREATING A SERIES"
   ]
  },
  {
   "cell_type": "code",
   "execution_count": 1,
   "id": "af4c0f5d",
   "metadata": {},
   "outputs": [
    {
     "name": "stdout",
     "output_type": "stream",
     "text": [
      "0    1\n",
      "1    2\n",
      "2    3\n",
      "3    4\n",
      "dtype: int64\n"
     ]
    }
   ],
   "source": [
    "import pandas as pd\n",
    "data=[1,2,3,4]\n",
    "df=pd.Series(data)\n",
    "print(df)\n"
   ]
  },
  {
   "cell_type": "markdown",
   "id": "298c617c",
   "metadata": {},
   "source": [
    "creating a DataFrame"
   ]
  },
  {
   "cell_type": "code",
   "execution_count": 3,
   "id": "91f44a13",
   "metadata": {},
   "outputs": [
    {
     "name": "stdout",
     "output_type": "stream",
     "text": [
      "       name  age        city\n",
      "0  poojitha   25    new york\n",
      "1    chitti   30  los angles\n",
      "2    kavati   35     chicago\n"
     ]
    }
   ],
   "source": [
    "import pandas as pd\n",
    "data={'name':[\"poojitha\",\"chitti\",\"kavati\"],\n",
    "      'age':[25,30,35],\n",
    "             'city':['new york','los angles','chicago']\n",
    "     }\n",
    "df=pd.DataFrame(data)\n",
    "print(df)"
   ]
  },
  {
   "cell_type": "markdown",
   "id": "a8efbf9d",
   "metadata": {},
   "source": [
    "READING DATA FROM FILES"
   ]
  },
  {
   "cell_type": "code",
   "execution_count": 1,
   "id": "c947d5bf",
   "metadata": {},
   "outputs": [],
   "source": [
    "import pandas as pd\n",
    "df=pd.read_csv(\"transactions.csv\")"
   ]
  },
  {
   "cell_type": "code",
   "execution_count": 2,
   "id": "9a24504d",
   "metadata": {},
   "outputs": [
    {
     "name": "stdout",
     "output_type": "stream",
     "text": [
      "   TransactionID TransactionDate  UserID  ProductID  Quantity\n",
      "0              1      2010-08-21     7.0          2         1\n",
      "1              2      2011-05-26     3.0          4         1\n",
      "2              3      2011-06-16     3.0          3         1\n",
      "3              4      2012-08-26     1.0          2         3\n",
      "4              5      2013-06-06     2.0          4         1\n",
      "5              6      2013-12-23     2.0          5         6\n",
      "6              7      2013-12-30     3.0          4         1\n",
      "7              8      2014-04-24     NaN          2         3\n",
      "8              9      2015-04-24     7.0          4         3\n",
      "9             10      2016-05-08     3.0          4         4\n"
     ]
    }
   ],
   "source": [
    "import pandas as pd\n",
    "df = pd.read_csv('transactions.csv')\n",
    "print(df.head(10))"
   ]
  },
  {
   "cell_type": "code",
   "execution_count": 3,
   "id": "06bf89c4",
   "metadata": {},
   "outputs": [
    {
     "name": "stdout",
     "output_type": "stream",
     "text": [
      "   TransactionID TransactionDate  UserID  ProductID  Quantity\n",
      "5              6      2013-12-23     2.0          5         6\n",
      "6              7      2013-12-30     3.0          4         1\n",
      "7              8      2014-04-24     NaN          2         3\n",
      "8              9      2015-04-24     7.0          4         3\n",
      "9             10      2016-05-08     3.0          4         4\n"
     ]
    }
   ],
   "source": [
    "import pandas as pd\n",
    "df = pd.read_csv('transactions.csv')\n",
    "print(df.tail())"
   ]
  },
  {
   "cell_type": "code",
   "execution_count": 4,
   "id": "7db125d2",
   "metadata": {},
   "outputs": [
    {
     "name": "stdout",
     "output_type": "stream",
     "text": [
      "   TransactionID TransactionDate  UserID  ProductID  Quantity\n",
      "0              1      2010-08-21     7.0          2         1\n",
      "1              2      2011-05-26     3.0          4         1\n",
      "2              3      2011-06-16     3.0          3         1\n",
      "3              4      2012-08-26     1.0          2         3\n",
      "4              5      2013-06-06     2.0          4         1\n"
     ]
    }
   ],
   "source": [
    "import pandas as pd\n",
    "df = pd.read_csv('transactions.csv')\n",
    "print(df.head())"
   ]
  },
  {
   "cell_type": "code",
   "execution_count": 5,
   "id": "f888e098",
   "metadata": {},
   "outputs": [
    {
     "name": "stdout",
     "output_type": "stream",
     "text": [
      "<class 'pandas.core.frame.DataFrame'>\n",
      "RangeIndex: 10 entries, 0 to 9\n",
      "Data columns (total 5 columns):\n",
      " #   Column           Non-Null Count  Dtype  \n",
      "---  ------           --------------  -----  \n",
      " 0   TransactionID    10 non-null     int64  \n",
      " 1   TransactionDate  10 non-null     object \n",
      " 2   UserID           9 non-null      float64\n",
      " 3   ProductID        10 non-null     int64  \n",
      " 4   Quantity         10 non-null     int64  \n",
      "dtypes: float64(1), int64(3), object(1)\n",
      "memory usage: 528.0+ bytes\n",
      "None\n"
     ]
    }
   ],
   "source": [
    "import pandas as pd\n",
    "df = pd.read_csv('transactions.csv')\n",
    "print(df.info())"
   ]
  },
  {
   "cell_type": "code",
   "execution_count": 13,
   "id": "8d56d7a5",
   "metadata": {},
   "outputs": [
    {
     "name": "stdout",
     "output_type": "stream",
     "text": [
      "       TransactionID    UserID  ProductID   Quantity\n",
      "count       10.00000  9.000000  10.000000  10.000000\n",
      "mean         5.50000  3.444444   3.400000   2.400000\n",
      "std          3.02765  2.127858   1.074968   1.712698\n",
      "min          1.00000  1.000000   2.000000   1.000000\n",
      "25%          3.25000  2.000000   2.250000   1.000000\n",
      "50%          5.50000  3.000000   4.000000   2.000000\n",
      "75%          7.75000  3.000000   4.000000   3.000000\n",
      "max         10.00000  7.000000   5.000000   6.000000\n"
     ]
    }
   ],
   "source": [
    "import pandas as pd\n",
    "df = pd.read_csv('transactions.csv')\n",
    "print(df.describe())"
   ]
  },
  {
   "cell_type": "code",
   "execution_count": 15,
   "id": "33071ddc",
   "metadata": {},
   "outputs": [
    {
     "name": "stdout",
     "output_type": "stream",
     "text": [
      "<pandas.core.indexing._iLocIndexer object at 0x7f8e806ae0d0>\n"
     ]
    }
   ],
   "source": [
    "import pandas as pd\n",
    "df = pd.read_csv('transactions.csv')\n",
    "print(df.iloc())"
   ]
  },
  {
   "cell_type": "code",
   "execution_count": 18,
   "id": "45c08a91",
   "metadata": {},
   "outputs": [
    {
     "name": "stdout",
     "output_type": "stream",
     "text": [
      "TransactionID               2\n",
      "TransactionDate    2011-05-26\n",
      "UserID                    3.0\n",
      "ProductID                   4\n",
      "Quantity                    1\n",
      "Name: 1, dtype: object\n"
     ]
    }
   ],
   "source": [
    "import pandas as pd\n",
    "df = pd.read_csv('/home/user/Downloads/transactions.csv')\n",
    "print(df.iloc[1])"
   ]
  },
  {
   "cell_type": "code",
   "execution_count": 58,
   "id": "d543d670",
   "metadata": {},
   "outputs": [
    {
     "name": "stdout",
     "output_type": "stream",
     "text": [
      "0    1\n",
      "1    1\n",
      "2    1\n",
      "3    3\n",
      "4    1\n",
      "5    6\n",
      "6    1\n",
      "7    3\n",
      "8    3\n",
      "9    4\n",
      "Name: Quantity, dtype: int64\n"
     ]
    }
   ],
   "source": [
    "import pandas as pd\n",
    "df = pd.read_csv('transactions.csv')\n",
    "print(df['Quantity'])"
   ]
  },
  {
   "cell_type": "markdown",
   "id": "3c6c949f",
   "metadata": {},
   "source": [
    "Filtering Data"
   ]
  },
  {
   "cell_type": "code",
   "execution_count": 57,
   "id": "e10db35d",
   "metadata": {},
   "outputs": [
    {
     "name": "stdout",
     "output_type": "stream",
     "text": [
      "       name  age        city\n",
      "0  parvathi   25    new york\n",
      "1    chitti   30  los angles\n",
      "2    muriki   35     chicago\n"
     ]
    }
   ],
   "source": [
    "import pandas as pd\n",
    "data={'name':[\"parvathi\",\"chitti\",\"muriki\"],\n",
    "      'age':[25,30,35],\n",
    "             'city':['new york','los angles','chicago']\n",
    "     }\n",
    "df=pd.DataFrame(data)\n",
    "print(df)"
   ]
  },
  {
   "cell_type": "code",
   "execution_count": 28,
   "id": "2217a363",
   "metadata": {},
   "outputs": [
    {
     "name": "stdout",
     "output_type": "stream",
     "text": [
      "       name  age        city\n",
      "0  poojitha   25    new york\n",
      "1    chitti   30  los angles\n",
      "2    kavati   35     chicago\n"
     ]
    }
   ],
   "source": [
    "import pandas as pd\n",
    "df=pd.DataFrame(data)\n",
    "filtered_df = df[df['age'] > 20]\n",
    "print(filtered_df)"
   ]
  },
  {
   "cell_type": "markdown",
   "id": "848458ee",
   "metadata": {},
   "source": [
    "Renaming Columns"
   ]
  },
  {
   "cell_type": "code",
   "execution_count": 30,
   "id": "817fa7a9",
   "metadata": {},
   "outputs": [
    {
     "name": "stdout",
     "output_type": "stream",
     "text": [
      "  Full Name  Years        city\n",
      "0  poojitha     25    new york\n",
      "1    chitti     30  los angles\n",
      "2    kavati     35     chicago\n"
     ]
    }
   ],
   "source": [
    "df.rename(columns={'name':'Full Name','age':'Years'},\n",
    "          inplace=True)\n",
    "print(df)"
   ]
  },
  {
   "cell_type": "code",
   "execution_count": 32,
   "id": "3fab97db",
   "metadata": {},
   "outputs": [
    {
     "name": "stdout",
     "output_type": "stream",
     "text": [
      "   TransactionID TransactionDate  UserID  ProductID  Quant\n",
      "0              1      2010-08-21     7.0          2      1\n",
      "1              2      2011-05-26     3.0          4      1\n",
      "2              3      2011-06-16     3.0          3      1\n",
      "3              4      2012-08-26     1.0          2      3\n",
      "4              5      2013-06-06     2.0          4      1\n"
     ]
    }
   ],
   "source": [
    "import pandas as pd\n",
    "df=pd.read_csv('/home/user/Downloads/transactions.csv')\n",
    "df.rename(columns={\"Quantity\":\"Quant\"},inplace=True)\n",
    "print(df.head())"
   ]
  },
  {
   "cell_type": "code",
   "execution_count": 33,
   "id": "f15b0346",
   "metadata": {},
   "outputs": [
    {
     "name": "stdout",
     "output_type": "stream",
     "text": [
      "       name  age        city\n",
      "0  poojitha   25    new york\n",
      "1    chitti   30  los angles\n",
      "2    kavati   35     chicago\n"
     ]
    }
   ],
   "source": [
    "import pandas as pd\n",
    "data={'name':[\"poojitha\",\"chitti\",\"kavati\"],\n",
    "      'age':[25,30,35],\n",
    "             'city':['new york','los angles','chicago']\n",
    "     }\n",
    "df=pd.DataFrame(data)\n",
    "print(df)"
   ]
  },
  {
   "cell_type": "code",
   "execution_count": 77,
   "id": "ee2f8e6d",
   "metadata": {},
   "outputs": [
    {
     "name": "stdout",
     "output_type": "stream",
     "text": [
      "TransactionID      0\n",
      "TransactionDate    0\n",
      "UID                1\n",
      "PID                0\n",
      "Quantity           0\n",
      "dtype: int64\n"
     ]
    }
   ],
   "source": [
    "print(df.isnull().sum())"
   ]
  },
  {
   "cell_type": "code",
   "execution_count": 35,
   "id": "5ae63785",
   "metadata": {},
   "outputs": [],
   "source": [
    "df['age'].fillna(df['age'].mean(),inplace=True)"
   ]
  },
  {
   "cell_type": "code",
   "execution_count": 36,
   "id": "2e571e67",
   "metadata": {},
   "outputs": [],
   "source": [
    "df.dropna(inplace=True)"
   ]
  },
  {
   "cell_type": "markdown",
   "id": "1719401d",
   "metadata": {},
   "source": [
    "Sorting the data"
   ]
  },
  {
   "cell_type": "code",
   "execution_count": 37,
   "id": "483782de",
   "metadata": {},
   "outputs": [
    {
     "name": "stdout",
     "output_type": "stream",
     "text": [
      "   TransactionID TransactionDate  UserID  ProductID  Quantity\n",
      "6              7      2013-12-30     3.0          4         1\n",
      "4              5      2013-06-06     2.0          4         1\n",
      "2              3      2011-06-16     3.0          3         1\n",
      "1              2      2011-05-26     3.0          4         1\n",
      "0              1      2010-08-21     7.0          2         1\n"
     ]
    }
   ],
   "source": [
    "import pandas as pd\n",
    "df=pd.read_csv('/home/user/Downloads/transactions.csv')\n",
    "df_sorted=df.sort_values(by=[\"Quantity\",\"TransactionDate\"],\n",
    "                         ascending=[True,False])\n",
    "print(df_sorted.head())"
   ]
  },
  {
   "cell_type": "markdown",
   "id": "f388105a",
   "metadata": {},
   "source": [
    "Subsetting data"
   ]
  },
  {
   "cell_type": "code",
   "execution_count": 38,
   "id": "ba0b80de",
   "metadata": {},
   "outputs": [
    {
     "name": "stdout",
     "output_type": "stream",
     "text": [
      "   TransactionID TransactionDate  UserID  ProductID  Quantity\n",
      "3              4      2012-08-26     1.0          2         3\n",
      "5              6      2013-12-23     2.0          5         6\n",
      "7              8      2014-04-24     NaN          2         3\n",
      "8              9      2015-04-24     7.0          4         3\n",
      "9             10      2016-05-08     3.0          4         4\n"
     ]
    }
   ],
   "source": [
    "subset=df[df['Quantity']>1]\n",
    "print(subset)"
   ]
  },
  {
   "cell_type": "code",
   "execution_count": 39,
   "id": "f6992753",
   "metadata": {},
   "outputs": [
    {
     "name": "stdout",
     "output_type": "stream",
     "text": [
      "   TransactionID TransactionDate  UserID  ProductID  Quantity\n",
      "0              1      2010-08-21     7.0          2         1\n",
      "2              3      2011-06-16     3.0          3         1\n",
      "5              6      2013-12-23     2.0          5         6\n"
     ]
    }
   ],
   "source": [
    "subset_rows=df.iloc[[0,2,5]]\n",
    "print(subset_rows)"
   ]
  },
  {
   "cell_type": "markdown",
   "id": "af544210",
   "metadata": {},
   "source": [
    "Subset rows where an external array, foo, is True"
   ]
  },
  {
   "cell_type": "code",
   "execution_count": 55,
   "id": "dfaefd01",
   "metadata": {},
   "outputs": [
    {
     "name": "stdout",
     "output_type": "stream",
     "text": [
      "   TransactionID TransactionDate  UserID  ProductID  Quantity   Foo  NewColumn\n",
      "0              1      2010-08-21     7.0          2         1   9.0          2\n",
      "2              3      2011-06-16     3.0          3         1   6.0          2\n",
      "4              5      2013-06-06     2.0          4         1   6.0          2\n",
      "6              7      2013-12-30     3.0          4         1   7.0          2\n",
      "8              9      2015-04-24     7.0          4         3  11.0          6\n"
     ]
    }
   ],
   "source": [
    "foo = [True, False, True, False,True,False,True,False,True,False] # Example of a boolean array\n",
    "subset_rows = df[foo]\n",
    "print(subset_rows)"
   ]
  },
  {
   "cell_type": "markdown",
   "id": "2ba82adf",
   "metadata": {},
   "source": [
    "Subset by columns TransactionID and TransactionDate with\n",
    "logical operator"
   ]
  },
  {
   "cell_type": "code",
   "execution_count": 44,
   "id": "cac9036f",
   "metadata": {},
   "outputs": [
    {
     "name": "stdout",
     "output_type": "stream",
     "text": [
      "   TransactionID TransactionDate\n",
      "3              4      2012-08-26\n",
      "5              6      2013-12-23\n",
      "7              8      2014-04-24\n",
      "8              9      2015-04-24\n",
      "9             10      2016-05-08\n"
     ]
    }
   ],
   "source": [
    "subset = df[df['Quantity'] > 1][['TransactionID',\n",
    "'TransactionDate']]\n",
    "print(subset)"
   ]
  },
  {
   "cell_type": "markdown",
   "id": "21c45a7b",
   "metadata": {},
   "source": [
    "Subset columns by a variable list of column names"
   ]
  },
  {
   "cell_type": "code",
   "execution_count": 45,
   "id": "8edb829e",
   "metadata": {},
   "outputs": [
    {
     "name": "stdout",
     "output_type": "stream",
     "text": [
      "   TransactionID TransactionDate\n",
      "0              1      2010-08-21\n",
      "1              2      2011-05-26\n",
      "2              3      2011-06-16\n",
      "3              4      2012-08-26\n",
      "4              5      2013-06-06\n",
      "5              6      2013-12-23\n",
      "6              7      2013-12-30\n",
      "7              8      2014-04-24\n",
      "8              9      2015-04-24\n",
      "9             10      2016-05-08\n"
     ]
    }
   ],
   "source": [
    "columns_to_select=['TransactionID','TransactionDate']\n",
    "subnet_columns=df[columns_to_select]\n",
    "print(subnet_columns)"
   ]
  },
  {
   "cell_type": "markdown",
   "id": "799ee3b0",
   "metadata": {},
   "source": [
    "Subset columns excluding a variable list of column names"
   ]
  },
  {
   "cell_type": "code",
   "execution_count": 46,
   "id": "8aa8efe4",
   "metadata": {},
   "outputs": [
    {
     "name": "stdout",
     "output_type": "stream",
     "text": [
      "   TransactionID TransactionDate  UserID\n",
      "0              1      2010-08-21     7.0\n",
      "1              2      2011-05-26     3.0\n",
      "2              3      2011-06-16     3.0\n",
      "3              4      2012-08-26     1.0\n",
      "4              5      2013-06-06     2.0\n",
      "5              6      2013-12-23     2.0\n",
      "6              7      2013-12-30     3.0\n",
      "7              8      2014-04-24     NaN\n",
      "8              9      2015-04-24     7.0\n",
      "9             10      2016-05-08     3.0\n"
     ]
    }
   ],
   "source": [
    "columns_to_exclude = ['Quantity', 'ProductID']\n",
    "subset_columns_excluded = df[[col for col in df.columns if col not\n",
    "in columns_to_exclude]]\n",
    "print(subset_columns_excluded)"
   ]
  },
  {
   "cell_type": "markdown",
   "id": "0be3fef8",
   "metadata": {},
   "source": [
    "Convert the TransactionDate column to type Date"
   ]
  },
  {
   "cell_type": "code",
   "execution_count": 47,
   "id": "0b2f9e01",
   "metadata": {},
   "outputs": [
    {
     "name": "stdout",
     "output_type": "stream",
     "text": [
      "TransactionID               int64\n",
      "TransactionDate    datetime64[ns]\n",
      "UserID                    float64\n",
      "ProductID                   int64\n",
      "Quantity                    int64\n",
      "dtype: object\n"
     ]
    }
   ],
   "source": [
    "df['TransactionDate'] = pd.to_datetime(df['TransactionDate'])\n",
    "print(df.dtypes)"
   ]
  },
  {
   "cell_type": "markdown",
   "id": "d914c684",
   "metadata": {},
   "source": [
    "Insert a new column, Foo = UserID + ProductID"
   ]
  },
  {
   "cell_type": "code",
   "execution_count": 55,
   "id": "1dc29dbd",
   "metadata": {},
   "outputs": [
    {
     "name": "stdout",
     "output_type": "stream",
     "text": [
      "   TransactionID TransactionDate  UserID  ProductID  Quantity  Foo\n",
      "0              1      2010-08-21     7.0          2         1  9.0\n",
      "1              2      2011-05-26     3.0          4         1  7.0\n",
      "2              3      2011-06-16     3.0          3         1  6.0\n",
      "3              4      2012-08-26     1.0          2         3  3.0\n",
      "4              5      2013-06-06     2.0          4         1  6.0\n"
     ]
    }
   ],
   "source": [
    "df['Foo']=df['UserID']+df['ProductID']\n",
    "print(df.head())"
   ]
  },
  {
   "cell_type": "markdown",
   "id": "1cebdcba",
   "metadata": {},
   "source": [
    "Inserting a New Row"
   ]
  },
  {
   "cell_type": "code",
   "execution_count": null,
   "id": "422711c6",
   "metadata": {},
   "outputs": [],
   "source": []
  },
  {
   "cell_type": "markdown",
   "id": "155cac26",
   "metadata": {},
   "source": [
    "Updating Existing Values"
   ]
  },
  {
   "cell_type": "markdown",
   "id": "63389192",
   "metadata": {},
   "source": [
    "df.loc[df['UserID'] == 2, 'Quantity'] = new_quantity_value"
   ]
  },
  {
   "cell_type": "markdown",
   "id": "4b5c3539",
   "metadata": {},
   "source": [
    "Inserting a New Column"
   ]
  },
  {
   "cell_type": "code",
   "execution_count": 51,
   "id": "22036eaa",
   "metadata": {},
   "outputs": [],
   "source": [
    "df['Foo'] = df['UserID'] + df['ProductID']"
   ]
  },
  {
   "cell_type": "markdown",
   "id": "9d26b2d6",
   "metadata": {},
   "source": [
    "Modifying data frames"
   ]
  },
  {
   "cell_type": "code",
   "execution_count": 52,
   "id": "b9376366",
   "metadata": {},
   "outputs": [
    {
     "name": "stdout",
     "output_type": "stream",
     "text": [
      "   TransactionID TransactionDate  UserID  ProductID  Quantity  Foo  NewColumn\n",
      "0              1      2010-08-21     7.0          2         1  9.0          2\n",
      "1              2      2011-05-26     3.0          4         1  7.0          2\n",
      "2              3      2011-06-16     3.0          3         1  6.0          2\n",
      "3              4      2012-08-26     1.0          2         3  3.0          6\n",
      "4              5      2013-06-06     2.0          4         1  6.0          2\n"
     ]
    }
   ],
   "source": [
    "df['NewColumn']=df['Quantity']*2\n",
    "print(df.head())"
   ]
  },
  {
   "cell_type": "markdown",
   "id": "d2765192",
   "metadata": {},
   "source": [
    "Handling dates"
   ]
  },
  {
   "cell_type": "code",
   "execution_count": 61,
   "id": "16b9386e",
   "metadata": {},
   "outputs": [],
   "source": [
    " df['TransactionDate'] =pd.to_datetime(df['TransactionDate'])"
   ]
  },
  {
   "cell_type": "code",
   "execution_count": 62,
   "id": "59986030",
   "metadata": {},
   "outputs": [
    {
     "name": "stdout",
     "output_type": "stream",
     "text": [
      "   TransactionID TransactionDate  UserID  ProductID  Quantity  Foo  NewColumn\n",
      "0              1      2010-08-21     7.0          2         1  9.0          2\n",
      "1              2      2011-05-26     3.0          4         1  7.0          2\n",
      "2              3      2011-06-16     3.0          3         1  6.0          2\n",
      "3              4      2012-08-26     1.0          2         3  3.0          6\n",
      "4              5      2013-06-06     2.0          4         1  6.0          2\n"
     ]
    }
   ],
   "source": [
    "print(df.head())"
   ]
  },
  {
   "cell_type": "markdown",
   "id": "bc41990f",
   "metadata": {},
   "source": [
    "Exercise questions:"
   ]
  },
  {
   "cell_type": "code",
   "execution_count": null,
   "id": "a1e2f269",
   "metadata": {},
   "outputs": [],
   "source": []
  },
  {
   "cell_type": "code",
   "execution_count": 65,
   "id": "3f6cc2d6",
   "metadata": {},
   "outputs": [
    {
     "data": {
      "text/html": [
       "<div>\n",
       "<style scoped>\n",
       "    .dataframe tbody tr th:only-of-type {\n",
       "        vertical-align: middle;\n",
       "    }\n",
       "\n",
       "    .dataframe tbody tr th {\n",
       "        vertical-align: top;\n",
       "    }\n",
       "\n",
       "    .dataframe thead th {\n",
       "        text-align: right;\n",
       "    }\n",
       "</style>\n",
       "<table border=\"1\" class=\"dataframe\">\n",
       "  <thead>\n",
       "    <tr style=\"text-align: right;\">\n",
       "      <th></th>\n",
       "      <th>TransactionID</th>\n",
       "      <th>TransactionDate</th>\n",
       "      <th>UserID</th>\n",
       "      <th>ProductID</th>\n",
       "      <th>Quantity</th>\n",
       "      <th>Foo</th>\n",
       "      <th>NewColumn</th>\n",
       "    </tr>\n",
       "  </thead>\n",
       "  <tbody>\n",
       "    <tr>\n",
       "      <th>0</th>\n",
       "      <td>1</td>\n",
       "      <td>2010-08-21</td>\n",
       "      <td>7.0</td>\n",
       "      <td>2</td>\n",
       "      <td>1</td>\n",
       "      <td>9.0</td>\n",
       "      <td>2</td>\n",
       "    </tr>\n",
       "    <tr>\n",
       "      <th>1</th>\n",
       "      <td>2</td>\n",
       "      <td>2011-05-26</td>\n",
       "      <td>3.0</td>\n",
       "      <td>4</td>\n",
       "      <td>1</td>\n",
       "      <td>7.0</td>\n",
       "      <td>2</td>\n",
       "    </tr>\n",
       "    <tr>\n",
       "      <th>2</th>\n",
       "      <td>3</td>\n",
       "      <td>2011-06-16</td>\n",
       "      <td>3.0</td>\n",
       "      <td>3</td>\n",
       "      <td>1</td>\n",
       "      <td>6.0</td>\n",
       "      <td>2</td>\n",
       "    </tr>\n",
       "    <tr>\n",
       "      <th>3</th>\n",
       "      <td>4</td>\n",
       "      <td>2012-08-26</td>\n",
       "      <td>1.0</td>\n",
       "      <td>2</td>\n",
       "      <td>3</td>\n",
       "      <td>3.0</td>\n",
       "      <td>6</td>\n",
       "    </tr>\n",
       "    <tr>\n",
       "      <th>4</th>\n",
       "      <td>5</td>\n",
       "      <td>2013-06-06</td>\n",
       "      <td>2.0</td>\n",
       "      <td>4</td>\n",
       "      <td>1</td>\n",
       "      <td>6.0</td>\n",
       "      <td>2</td>\n",
       "    </tr>\n",
       "    <tr>\n",
       "      <th>5</th>\n",
       "      <td>6</td>\n",
       "      <td>2013-12-23</td>\n",
       "      <td>2.0</td>\n",
       "      <td>5</td>\n",
       "      <td>6</td>\n",
       "      <td>7.0</td>\n",
       "      <td>12</td>\n",
       "    </tr>\n",
       "    <tr>\n",
       "      <th>6</th>\n",
       "      <td>7</td>\n",
       "      <td>2013-12-30</td>\n",
       "      <td>3.0</td>\n",
       "      <td>4</td>\n",
       "      <td>1</td>\n",
       "      <td>7.0</td>\n",
       "      <td>2</td>\n",
       "    </tr>\n",
       "    <tr>\n",
       "      <th>7</th>\n",
       "      <td>8</td>\n",
       "      <td>2014-04-24</td>\n",
       "      <td>NaN</td>\n",
       "      <td>2</td>\n",
       "      <td>3</td>\n",
       "      <td>NaN</td>\n",
       "      <td>6</td>\n",
       "    </tr>\n",
       "    <tr>\n",
       "      <th>8</th>\n",
       "      <td>9</td>\n",
       "      <td>2015-04-24</td>\n",
       "      <td>7.0</td>\n",
       "      <td>4</td>\n",
       "      <td>3</td>\n",
       "      <td>11.0</td>\n",
       "      <td>6</td>\n",
       "    </tr>\n",
       "    <tr>\n",
       "      <th>9</th>\n",
       "      <td>10</td>\n",
       "      <td>2016-05-08</td>\n",
       "      <td>3.0</td>\n",
       "      <td>4</td>\n",
       "      <td>4</td>\n",
       "      <td>7.0</td>\n",
       "      <td>8</td>\n",
       "    </tr>\n",
       "  </tbody>\n",
       "</table>\n",
       "</div>"
      ],
      "text/plain": [
       "   TransactionID TransactionDate  UserID  ProductID  Quantity   Foo  NewColumn\n",
       "0              1      2010-08-21     7.0          2         1   9.0          2\n",
       "1              2      2011-05-26     3.0          4         1   7.0          2\n",
       "2              3      2011-06-16     3.0          3         1   6.0          2\n",
       "3              4      2012-08-26     1.0          2         3   3.0          6\n",
       "4              5      2013-06-06     2.0          4         1   6.0          2\n",
       "5              6      2013-12-23     2.0          5         6   7.0         12\n",
       "6              7      2013-12-30     3.0          4         1   7.0          2\n",
       "7              8      2014-04-24     NaN          2         3   NaN          6\n",
       "8              9      2015-04-24     7.0          4         3  11.0          6\n",
       "9             10      2016-05-08     3.0          4         4   7.0          8"
      ]
     },
     "execution_count": 65,
     "metadata": {},
     "output_type": "execute_result"
    }
   ],
   "source": [
    "df\n"
   ]
  },
  {
   "cell_type": "code",
   "execution_count": 66,
   "id": "f36a2e2d",
   "metadata": {},
   "outputs": [
    {
     "name": "stdout",
     "output_type": "stream",
     "text": [
      "shape of the dataframe(rows,columns) (10, 7)\n"
     ]
    }
   ],
   "source": [
    "print(\"shape of the dataframe(rows,columns)\",df.shape)"
   ]
  },
  {
   "cell_type": "code",
   "execution_count": 67,
   "id": "712d4f79",
   "metadata": {},
   "outputs": [
    {
     "name": "stdout",
     "output_type": "stream",
     "text": [
      "10\n"
     ]
    }
   ],
   "source": [
    "print(len(df))"
   ]
  },
  {
   "cell_type": "code",
   "execution_count": 70,
   "id": "4e08cc14",
   "metadata": {},
   "outputs": [
    {
     "name": "stdout",
     "output_type": "stream",
     "text": [
      "7\n"
     ]
    }
   ],
   "source": [
    "print(len(df.columns))"
   ]
  },
  {
   "cell_type": "code",
   "execution_count": 71,
   "id": "e60059df",
   "metadata": {},
   "outputs": [
    {
     "data": {
      "text/plain": [
       "['TransactionID',\n",
       " 'TransactionDate',\n",
       " 'UserID',\n",
       " 'ProductID',\n",
       " 'Quantity',\n",
       " 'Foo',\n",
       " 'NewColumn']"
      ]
     },
     "execution_count": 71,
     "metadata": {},
     "output_type": "execute_result"
    }
   ],
   "source": [
    "list(df.columns)"
   ]
  },
  {
   "cell_type": "code",
   "execution_count": 61,
   "id": "2ddc9336",
   "metadata": {},
   "outputs": [
    {
     "data": {
      "text/plain": [
       "[(0,\n",
       "  TransactionID               1\n",
       "  TransactionDate    2010-08-21\n",
       "  UserID                    7.0\n",
       "  ProductID                   2\n",
       "  Quantity                    1\n",
       "  Name: 0, dtype: object),\n",
       " (1,\n",
       "  TransactionID               2\n",
       "  TransactionDate    2011-05-26\n",
       "  UserID                    3.0\n",
       "  ProductID                   4\n",
       "  Quantity                    1\n",
       "  Name: 1, dtype: object),\n",
       " (2,\n",
       "  TransactionID               3\n",
       "  TransactionDate    2011-06-16\n",
       "  UserID                    3.0\n",
       "  ProductID                   3\n",
       "  Quantity                    1\n",
       "  Name: 2, dtype: object),\n",
       " (3,\n",
       "  TransactionID               4\n",
       "  TransactionDate    2012-08-26\n",
       "  UserID                    1.0\n",
       "  ProductID                   2\n",
       "  Quantity                    3\n",
       "  Name: 3, dtype: object),\n",
       " (4,\n",
       "  TransactionID               5\n",
       "  TransactionDate    2013-06-06\n",
       "  UserID                    2.0\n",
       "  ProductID                   4\n",
       "  Quantity                    1\n",
       "  Name: 4, dtype: object),\n",
       " (5,\n",
       "  TransactionID               6\n",
       "  TransactionDate    2013-12-23\n",
       "  UserID                    2.0\n",
       "  ProductID                   5\n",
       "  Quantity                    6\n",
       "  Name: 5, dtype: object),\n",
       " (6,\n",
       "  TransactionID               7\n",
       "  TransactionDate    2013-12-30\n",
       "  UserID                    3.0\n",
       "  ProductID                   4\n",
       "  Quantity                    1\n",
       "  Name: 6, dtype: object),\n",
       " (7,\n",
       "  TransactionID               8\n",
       "  TransactionDate    2014-04-24\n",
       "  UserID                    NaN\n",
       "  ProductID                   2\n",
       "  Quantity                    3\n",
       "  Name: 7, dtype: object),\n",
       " (8,\n",
       "  TransactionID               9\n",
       "  TransactionDate    2015-04-24\n",
       "  UserID                    7.0\n",
       "  ProductID                   4\n",
       "  Quantity                    3\n",
       "  Name: 8, dtype: object),\n",
       " (9,\n",
       "  TransactionID              10\n",
       "  TransactionDate    2016-05-08\n",
       "  UserID                    3.0\n",
       "  ProductID                   4\n",
       "  Quantity                    4\n",
       "  Name: 9, dtype: object)]"
      ]
     },
     "execution_count": 61,
     "metadata": {},
     "output_type": "execute_result"
    }
   ],
   "source": [
    "list(df.iterrows())"
   ]
  },
  {
   "cell_type": "code",
   "execution_count": 74,
   "id": "f8a49b95",
   "metadata": {},
   "outputs": [
    {
     "name": "stdout",
     "output_type": "stream",
     "text": [
      "   TransactionID TransactionDate  UserID  ProductID  Quantity   Foo  NewColumn\n",
      "0              1      2010-08-21     7.0          2         1   9.0          2\n",
      "1              2      2011-05-26     3.0          4         1   7.0          2\n",
      "2              3      2011-06-16     3.0          3         1   6.0          2\n",
      "3              4      2012-08-26     1.0          2         3   3.0          6\n",
      "4              5      2013-06-06     2.0          4         1   6.0          2\n",
      "5              6      2013-12-23     2.0          5         6   7.0         12\n",
      "6              7      2013-12-30     3.0          4         1   7.0          2\n",
      "7              8      2014-04-24     NaN          2         3   NaN          6\n",
      "8              9      2015-04-24     7.0          4         3  11.0          6\n",
      "9             10      2016-05-08     3.0          4         4   7.0          8\n"
     ]
    }
   ],
   "source": [
    "print(df.head(10))"
   ]
  },
  {
   "cell_type": "code",
   "execution_count": 75,
   "id": "b2272bca",
   "metadata": {},
   "outputs": [
    {
     "name": "stdout",
     "output_type": "stream",
     "text": [
      "   TransactionID TransactionDate  UserID  ProductID  Quant\n",
      "0              1      2010-08-21     7.0          2      1\n",
      "1              2      2011-05-26     3.0          4      1\n",
      "2              3      2011-06-16     3.0          3      1\n",
      "3              4      2012-08-26     1.0          2      3\n",
      "4              5      2013-06-06     2.0          4      1\n"
     ]
    }
   ],
   "source": [
    "import pandas as pd\n",
    "df=pd.read_csv('/home/user/Downloads/transactions.csv')\n",
    "df.rename(columns={\"Quantity\":\"Quant\"},inplace=True)\n",
    "print(df.head())"
   ]
  },
  {
   "cell_type": "code",
   "execution_count": 76,
   "id": "4caebfec",
   "metadata": {},
   "outputs": [
    {
     "name": "stdout",
     "output_type": "stream",
     "text": [
      "   TransactionID TransactionDate  UID  PID  Quantity\n",
      "0              1      2010-08-21  7.0    2         1\n",
      "1              2      2011-05-26  3.0    4         1\n",
      "2              3      2011-06-16  3.0    3         1\n",
      "3              4      2012-08-26  1.0    2         3\n",
      "4              5      2013-06-06  2.0    4         1\n"
     ]
    }
   ],
   "source": [
    "import pandas as pd\n",
    "df=pd.read_csv('/home/user/Downloads/transactions.csv')\n",
    "df.rename(columns={\"ProductID\":\"PID\",\"UserID\":\"UID\"},inplace=True)\n",
    "print(df.head())"
   ]
  },
  {
   "cell_type": "code",
   "execution_count": 82,
   "id": "585b0712",
   "metadata": {},
   "outputs": [
    {
     "name": "stdout",
     "output_type": "stream",
     "text": [
      "   TransactionID TransactionDate  UserID  ProductID  Quantity\n",
      "6              7      2013-12-30     3.0          4         1\n",
      "4              5      2013-06-06     2.0          4         1\n",
      "2              3      2011-06-16     3.0          3         1\n",
      "1              2      2011-05-26     3.0          4         1\n",
      "0              1      2010-08-21     7.0          2         1\n"
     ]
    }
   ],
   "source": [
    "import pandas as pd\n",
    "df=pd.read_csv('/home/user/Downloads/transactions.csv')\n",
    "df_sorted=df.sort_values(by=[\"Quantity\",\"TransactionID\"],\n",
    "                         ascending=[True,False])\n",
    "print(df_sorted.head())"
   ]
  },
  {
   "cell_type": "code",
   "execution_count": 83,
   "id": "59379fae",
   "metadata": {},
   "outputs": [
    {
     "name": "stdout",
     "output_type": "stream",
     "text": [
      "   TransactionID TransactionDate  UserID  ProductID  Quantity\n",
      "6              7      2013-12-30     3.0          4         1\n",
      "4              5      2013-06-06     2.0          4         1\n",
      "2              3      2011-06-16     3.0          3         1\n",
      "1              2      2011-05-26     3.0          4         1\n",
      "0              1      2010-08-21     7.0          2         1\n"
     ]
    }
   ],
   "source": [
    "import pandas as pd\n",
    "df=pd.read_csv('/home/user/Downloads/transactions.csv')\n",
    "df_sorted=df.sort_values(by=[\"Quantity\",\"TransactionDate\"],\n",
    "                         ascending=[True,False])\n",
    "print(df_sorted.head())"
   ]
  },
  {
   "cell_type": "code",
   "execution_count": 84,
   "id": "317dbdb0",
   "metadata": {},
   "outputs": [
    {
     "name": "stdout",
     "output_type": "stream",
     "text": [
      "   TransactionID TransactionDate  UserID  ProductID  Quantity\n",
      "0              1      2010-08-21     7.0          2         1\n",
      "3              4      2012-08-26     1.0          2         3\n",
      "7              8      2014-04-24     NaN          2         3\n",
      "2              3      2011-06-16     3.0          3         1\n",
      "1              2      2011-05-26     3.0          4         1\n"
     ]
    }
   ],
   "source": [
    "import pandas as pd\n",
    "df=pd.read_csv('/home/user/Downloads/transactions.csv')\n",
    "df_sorted=df.sort_values(by=[\"ProductID\",\"Quantity\",\"TransactionDate\",\"TransactionID\",\"UserID\"],\n",
    "                         ascending=[True,True,True,True,True])\n",
    "print(df_sorted.head())"
   ]
  },
  {
   "cell_type": "code",
   "execution_count": 85,
   "id": "4eabd858",
   "metadata": {},
   "outputs": [
    {
     "data": {
      "text/html": [
       "<div>\n",
       "<style scoped>\n",
       "    .dataframe tbody tr th:only-of-type {\n",
       "        vertical-align: middle;\n",
       "    }\n",
       "\n",
       "    .dataframe tbody tr th {\n",
       "        vertical-align: top;\n",
       "    }\n",
       "\n",
       "    .dataframe thead th {\n",
       "        text-align: right;\n",
       "    }\n",
       "</style>\n",
       "<table border=\"1\" class=\"dataframe\">\n",
       "  <thead>\n",
       "    <tr style=\"text-align: right;\">\n",
       "      <th></th>\n",
       "      <th>TransactionID</th>\n",
       "      <th>TransactionDate</th>\n",
       "      <th>ProductID</th>\n",
       "      <th>Quantity</th>\n",
       "    </tr>\n",
       "    <tr>\n",
       "      <th>UserID</th>\n",
       "      <th></th>\n",
       "      <th></th>\n",
       "      <th></th>\n",
       "      <th></th>\n",
       "    </tr>\n",
       "  </thead>\n",
       "  <tbody>\n",
       "    <tr>\n",
       "      <th>7.0</th>\n",
       "      <td>1</td>\n",
       "      <td>2010-08-21</td>\n",
       "      <td>2</td>\n",
       "      <td>1</td>\n",
       "    </tr>\n",
       "    <tr>\n",
       "      <th>3.0</th>\n",
       "      <td>2</td>\n",
       "      <td>2011-05-26</td>\n",
       "      <td>4</td>\n",
       "      <td>1</td>\n",
       "    </tr>\n",
       "    <tr>\n",
       "      <th>3.0</th>\n",
       "      <td>3</td>\n",
       "      <td>2011-06-16</td>\n",
       "      <td>3</td>\n",
       "      <td>1</td>\n",
       "    </tr>\n",
       "    <tr>\n",
       "      <th>1.0</th>\n",
       "      <td>4</td>\n",
       "      <td>2012-08-26</td>\n",
       "      <td>2</td>\n",
       "      <td>3</td>\n",
       "    </tr>\n",
       "    <tr>\n",
       "      <th>2.0</th>\n",
       "      <td>5</td>\n",
       "      <td>2013-06-06</td>\n",
       "      <td>4</td>\n",
       "      <td>1</td>\n",
       "    </tr>\n",
       "    <tr>\n",
       "      <th>2.0</th>\n",
       "      <td>6</td>\n",
       "      <td>2013-12-23</td>\n",
       "      <td>5</td>\n",
       "      <td>6</td>\n",
       "    </tr>\n",
       "    <tr>\n",
       "      <th>3.0</th>\n",
       "      <td>7</td>\n",
       "      <td>2013-12-30</td>\n",
       "      <td>4</td>\n",
       "      <td>1</td>\n",
       "    </tr>\n",
       "    <tr>\n",
       "      <th>NaN</th>\n",
       "      <td>8</td>\n",
       "      <td>2014-04-24</td>\n",
       "      <td>2</td>\n",
       "      <td>3</td>\n",
       "    </tr>\n",
       "    <tr>\n",
       "      <th>7.0</th>\n",
       "      <td>9</td>\n",
       "      <td>2015-04-24</td>\n",
       "      <td>4</td>\n",
       "      <td>3</td>\n",
       "    </tr>\n",
       "    <tr>\n",
       "      <th>3.0</th>\n",
       "      <td>10</td>\n",
       "      <td>2016-05-08</td>\n",
       "      <td>4</td>\n",
       "      <td>4</td>\n",
       "    </tr>\n",
       "  </tbody>\n",
       "</table>\n",
       "</div>"
      ],
      "text/plain": [
       "        TransactionID TransactionDate  ProductID  Quantity\n",
       "UserID                                                    \n",
       "7.0                 1      2010-08-21          2         1\n",
       "3.0                 2      2011-05-26          4         1\n",
       "3.0                 3      2011-06-16          3         1\n",
       "1.0                 4      2012-08-26          2         3\n",
       "2.0                 5      2013-06-06          4         1\n",
       "2.0                 6      2013-12-23          5         6\n",
       "3.0                 7      2013-12-30          4         1\n",
       "NaN                 8      2014-04-24          2         3\n",
       "7.0                 9      2015-04-24          4         3\n",
       "3.0                10      2016-05-08          4         4"
      ]
     },
     "execution_count": 85,
     "metadata": {},
     "output_type": "execute_result"
    }
   ],
   "source": [
    "df.set_index('UserID')"
   ]
  },
  {
   "cell_type": "code",
   "execution_count": 49,
   "id": "b06f598e",
   "metadata": {},
   "outputs": [
    {
     "data": {
      "text/html": [
       "<div>\n",
       "<style scoped>\n",
       "    .dataframe tbody tr th:only-of-type {\n",
       "        vertical-align: middle;\n",
       "    }\n",
       "\n",
       "    .dataframe tbody tr th {\n",
       "        vertical-align: top;\n",
       "    }\n",
       "\n",
       "    .dataframe thead th {\n",
       "        text-align: right;\n",
       "    }\n",
       "</style>\n",
       "<table border=\"1\" class=\"dataframe\">\n",
       "  <thead>\n",
       "    <tr style=\"text-align: right;\">\n",
       "      <th></th>\n",
       "      <th>TransactionID</th>\n",
       "      <th>TransactionDate</th>\n",
       "      <th>UserID</th>\n",
       "      <th>ProductID</th>\n",
       "      <th>Quantity</th>\n",
       "    </tr>\n",
       "  </thead>\n",
       "  <tbody>\n",
       "    <tr>\n",
       "      <th>0</th>\n",
       "      <td>1</td>\n",
       "      <td>2010-08-21</td>\n",
       "      <td>7.0</td>\n",
       "      <td>2</td>\n",
       "      <td>1</td>\n",
       "    </tr>\n",
       "    <tr>\n",
       "      <th>1</th>\n",
       "      <td>2</td>\n",
       "      <td>2011-05-26</td>\n",
       "      <td>3.0</td>\n",
       "      <td>4</td>\n",
       "      <td>1</td>\n",
       "    </tr>\n",
       "    <tr>\n",
       "      <th>2</th>\n",
       "      <td>3</td>\n",
       "      <td>2011-06-16</td>\n",
       "      <td>3.0</td>\n",
       "      <td>3</td>\n",
       "      <td>1</td>\n",
       "    </tr>\n",
       "    <tr>\n",
       "      <th>3</th>\n",
       "      <td>4</td>\n",
       "      <td>2012-08-26</td>\n",
       "      <td>1.0</td>\n",
       "      <td>2</td>\n",
       "      <td>3</td>\n",
       "    </tr>\n",
       "    <tr>\n",
       "      <th>4</th>\n",
       "      <td>5</td>\n",
       "      <td>2013-06-06</td>\n",
       "      <td>2.0</td>\n",
       "      <td>4</td>\n",
       "      <td>1</td>\n",
       "    </tr>\n",
       "    <tr>\n",
       "      <th>5</th>\n",
       "      <td>6</td>\n",
       "      <td>2013-12-23</td>\n",
       "      <td>2.0</td>\n",
       "      <td>5</td>\n",
       "      <td>6</td>\n",
       "    </tr>\n",
       "    <tr>\n",
       "      <th>6</th>\n",
       "      <td>7</td>\n",
       "      <td>2013-12-30</td>\n",
       "      <td>3.0</td>\n",
       "      <td>4</td>\n",
       "      <td>1</td>\n",
       "    </tr>\n",
       "    <tr>\n",
       "      <th>7</th>\n",
       "      <td>8</td>\n",
       "      <td>2014-04-24</td>\n",
       "      <td>NaN</td>\n",
       "      <td>2</td>\n",
       "      <td>3</td>\n",
       "    </tr>\n",
       "    <tr>\n",
       "      <th>8</th>\n",
       "      <td>9</td>\n",
       "      <td>2015-04-24</td>\n",
       "      <td>7.0</td>\n",
       "      <td>4</td>\n",
       "      <td>3</td>\n",
       "    </tr>\n",
       "    <tr>\n",
       "      <th>9</th>\n",
       "      <td>10</td>\n",
       "      <td>2016-05-08</td>\n",
       "      <td>3.0</td>\n",
       "      <td>4</td>\n",
       "      <td>4</td>\n",
       "    </tr>\n",
       "  </tbody>\n",
       "</table>\n",
       "</div>"
      ],
      "text/plain": [
       "   TransactionID TransactionDate  UserID  ProductID  Quantity\n",
       "0              1      2010-08-21     7.0          2         1\n",
       "1              2      2011-05-26     3.0          4         1\n",
       "2              3      2011-06-16     3.0          3         1\n",
       "3              4      2012-08-26     1.0          2         3\n",
       "4              5      2013-06-06     2.0          4         1\n",
       "5              6      2013-12-23     2.0          5         6\n",
       "6              7      2013-12-30     3.0          4         1\n",
       "7              8      2014-04-24     NaN          2         3\n",
       "8              9      2015-04-24     7.0          4         3\n",
       "9             10      2016-05-08     3.0          4         4"
      ]
     },
     "execution_count": 49,
     "metadata": {},
     "output_type": "execute_result"
    }
   ],
   "source": [
    "df[pd.unique(['ProductID']+df.columns.values.tolist()).tolist()]\n",
    "df"
   ]
  },
  {
   "cell_type": "code",
   "execution_count": 48,
   "id": "39a792e6",
   "metadata": {},
   "outputs": [],
   "source": [
    "cols = pd.unique(['ProductID']+df.columns.values.tolist())"
   ]
  },
  {
   "cell_type": "code",
   "execution_count": 92,
   "id": "9f08a609",
   "metadata": {},
   "outputs": [
    {
     "data": {
      "text/html": [
       "<div>\n",
       "<style scoped>\n",
       "    .dataframe tbody tr th:only-of-type {\n",
       "        vertical-align: middle;\n",
       "    }\n",
       "\n",
       "    .dataframe tbody tr th {\n",
       "        vertical-align: top;\n",
       "    }\n",
       "\n",
       "    .dataframe thead th {\n",
       "        text-align: right;\n",
       "    }\n",
       "</style>\n",
       "<table border=\"1\" class=\"dataframe\">\n",
       "  <thead>\n",
       "    <tr style=\"text-align: right;\">\n",
       "      <th></th>\n",
       "      <th>ProductID</th>\n",
       "      <th>TransactionID</th>\n",
       "      <th>TransactionDate</th>\n",
       "      <th>UserID</th>\n",
       "      <th>Quantity</th>\n",
       "    </tr>\n",
       "  </thead>\n",
       "  <tbody>\n",
       "    <tr>\n",
       "      <th>0</th>\n",
       "      <td>2</td>\n",
       "      <td>1</td>\n",
       "      <td>2010-08-21</td>\n",
       "      <td>7.0</td>\n",
       "      <td>1</td>\n",
       "    </tr>\n",
       "    <tr>\n",
       "      <th>1</th>\n",
       "      <td>4</td>\n",
       "      <td>2</td>\n",
       "      <td>2011-05-26</td>\n",
       "      <td>3.0</td>\n",
       "      <td>1</td>\n",
       "    </tr>\n",
       "    <tr>\n",
       "      <th>2</th>\n",
       "      <td>3</td>\n",
       "      <td>3</td>\n",
       "      <td>2011-06-16</td>\n",
       "      <td>3.0</td>\n",
       "      <td>1</td>\n",
       "    </tr>\n",
       "    <tr>\n",
       "      <th>3</th>\n",
       "      <td>2</td>\n",
       "      <td>4</td>\n",
       "      <td>2012-08-26</td>\n",
       "      <td>1.0</td>\n",
       "      <td>3</td>\n",
       "    </tr>\n",
       "    <tr>\n",
       "      <th>4</th>\n",
       "      <td>4</td>\n",
       "      <td>5</td>\n",
       "      <td>2013-06-06</td>\n",
       "      <td>2.0</td>\n",
       "      <td>1</td>\n",
       "    </tr>\n",
       "    <tr>\n",
       "      <th>5</th>\n",
       "      <td>5</td>\n",
       "      <td>6</td>\n",
       "      <td>2013-12-23</td>\n",
       "      <td>2.0</td>\n",
       "      <td>6</td>\n",
       "    </tr>\n",
       "    <tr>\n",
       "      <th>6</th>\n",
       "      <td>4</td>\n",
       "      <td>7</td>\n",
       "      <td>2013-12-30</td>\n",
       "      <td>3.0</td>\n",
       "      <td>1</td>\n",
       "    </tr>\n",
       "    <tr>\n",
       "      <th>7</th>\n",
       "      <td>2</td>\n",
       "      <td>8</td>\n",
       "      <td>2014-04-24</td>\n",
       "      <td>NaN</td>\n",
       "      <td>3</td>\n",
       "    </tr>\n",
       "    <tr>\n",
       "      <th>8</th>\n",
       "      <td>4</td>\n",
       "      <td>9</td>\n",
       "      <td>2015-04-24</td>\n",
       "      <td>7.0</td>\n",
       "      <td>3</td>\n",
       "    </tr>\n",
       "    <tr>\n",
       "      <th>9</th>\n",
       "      <td>4</td>\n",
       "      <td>10</td>\n",
       "      <td>2016-05-08</td>\n",
       "      <td>3.0</td>\n",
       "      <td>4</td>\n",
       "    </tr>\n",
       "  </tbody>\n",
       "</table>\n",
       "</div>"
      ],
      "text/plain": [
       "   ProductID  TransactionID TransactionDate  UserID  Quantity\n",
       "0          2              1      2010-08-21     7.0         1\n",
       "1          4              2      2011-05-26     3.0         1\n",
       "2          3              3      2011-06-16     3.0         1\n",
       "3          2              4      2012-08-26     1.0         3\n",
       "4          4              5      2013-06-06     2.0         1\n",
       "5          5              6      2013-12-23     2.0         6\n",
       "6          4              7      2013-12-30     3.0         1\n",
       "7          2              8      2014-04-24     NaN         3\n",
       "8          4              9      2015-04-24     7.0         3\n",
       "9          4             10      2016-05-08     3.0         4"
      ]
     },
     "execution_count": 92,
     "metadata": {},
     "output_type": "execute_result"
    }
   ],
   "source": [
    "df[cols]"
   ]
  },
  {
   "cell_type": "code",
   "execution_count": 47,
   "id": "3323aa77",
   "metadata": {},
   "outputs": [],
   "source": [
    "cols=pd.unique(['ProductID','Quantity', 'TransactionDate', 'TransactionID', 'UserID']+df.columns.values.tolist())"
   ]
  },
  {
   "cell_type": "code",
   "execution_count": 96,
   "id": "b4787e2d",
   "metadata": {},
   "outputs": [
    {
     "data": {
      "text/html": [
       "<div>\n",
       "<style scoped>\n",
       "    .dataframe tbody tr th:only-of-type {\n",
       "        vertical-align: middle;\n",
       "    }\n",
       "\n",
       "    .dataframe tbody tr th {\n",
       "        vertical-align: top;\n",
       "    }\n",
       "\n",
       "    .dataframe thead th {\n",
       "        text-align: right;\n",
       "    }\n",
       "</style>\n",
       "<table border=\"1\" class=\"dataframe\">\n",
       "  <thead>\n",
       "    <tr style=\"text-align: right;\">\n",
       "      <th></th>\n",
       "      <th>ProductID</th>\n",
       "      <th>Quantity</th>\n",
       "      <th>TransactionDate</th>\n",
       "      <th>TransactionID</th>\n",
       "      <th>UserID</th>\n",
       "    </tr>\n",
       "  </thead>\n",
       "  <tbody>\n",
       "    <tr>\n",
       "      <th>0</th>\n",
       "      <td>2</td>\n",
       "      <td>1</td>\n",
       "      <td>2010-08-21</td>\n",
       "      <td>1</td>\n",
       "      <td>7.0</td>\n",
       "    </tr>\n",
       "    <tr>\n",
       "      <th>1</th>\n",
       "      <td>4</td>\n",
       "      <td>1</td>\n",
       "      <td>2011-05-26</td>\n",
       "      <td>2</td>\n",
       "      <td>3.0</td>\n",
       "    </tr>\n",
       "    <tr>\n",
       "      <th>2</th>\n",
       "      <td>3</td>\n",
       "      <td>1</td>\n",
       "      <td>2011-06-16</td>\n",
       "      <td>3</td>\n",
       "      <td>3.0</td>\n",
       "    </tr>\n",
       "    <tr>\n",
       "      <th>3</th>\n",
       "      <td>2</td>\n",
       "      <td>3</td>\n",
       "      <td>2012-08-26</td>\n",
       "      <td>4</td>\n",
       "      <td>1.0</td>\n",
       "    </tr>\n",
       "    <tr>\n",
       "      <th>4</th>\n",
       "      <td>4</td>\n",
       "      <td>1</td>\n",
       "      <td>2013-06-06</td>\n",
       "      <td>5</td>\n",
       "      <td>2.0</td>\n",
       "    </tr>\n",
       "    <tr>\n",
       "      <th>5</th>\n",
       "      <td>5</td>\n",
       "      <td>6</td>\n",
       "      <td>2013-12-23</td>\n",
       "      <td>6</td>\n",
       "      <td>2.0</td>\n",
       "    </tr>\n",
       "    <tr>\n",
       "      <th>6</th>\n",
       "      <td>4</td>\n",
       "      <td>1</td>\n",
       "      <td>2013-12-30</td>\n",
       "      <td>7</td>\n",
       "      <td>3.0</td>\n",
       "    </tr>\n",
       "    <tr>\n",
       "      <th>7</th>\n",
       "      <td>2</td>\n",
       "      <td>3</td>\n",
       "      <td>2014-04-24</td>\n",
       "      <td>8</td>\n",
       "      <td>NaN</td>\n",
       "    </tr>\n",
       "    <tr>\n",
       "      <th>8</th>\n",
       "      <td>4</td>\n",
       "      <td>3</td>\n",
       "      <td>2015-04-24</td>\n",
       "      <td>9</td>\n",
       "      <td>7.0</td>\n",
       "    </tr>\n",
       "    <tr>\n",
       "      <th>9</th>\n",
       "      <td>4</td>\n",
       "      <td>4</td>\n",
       "      <td>2016-05-08</td>\n",
       "      <td>10</td>\n",
       "      <td>3.0</td>\n",
       "    </tr>\n",
       "  </tbody>\n",
       "</table>\n",
       "</div>"
      ],
      "text/plain": [
       "   ProductID  Quantity TransactionDate  TransactionID  UserID\n",
       "0          2         1      2010-08-21              1     7.0\n",
       "1          4         1      2011-05-26              2     3.0\n",
       "2          3         1      2011-06-16              3     3.0\n",
       "3          2         3      2012-08-26              4     1.0\n",
       "4          4         1      2013-06-06              5     2.0\n",
       "5          5         6      2013-12-23              6     2.0\n",
       "6          4         1      2013-12-30              7     3.0\n",
       "7          2         3      2014-04-24              8     NaN\n",
       "8          4         3      2015-04-24              9     7.0\n",
       "9          4         4      2016-05-08             10     3.0"
      ]
     },
     "execution_count": 96,
     "metadata": {},
     "output_type": "execute_result"
    }
   ],
   "source": [
    "df[cols]"
   ]
  },
  {
   "cell_type": "code",
   "execution_count": 97,
   "id": "0adcefd5",
   "metadata": {},
   "outputs": [
    {
     "data": {
      "text/html": [
       "<div>\n",
       "<style scoped>\n",
       "    .dataframe tbody tr th:only-of-type {\n",
       "        vertical-align: middle;\n",
       "    }\n",
       "\n",
       "    .dataframe tbody tr th {\n",
       "        vertical-align: top;\n",
       "    }\n",
       "\n",
       "    .dataframe thead th {\n",
       "        text-align: right;\n",
       "    }\n",
       "</style>\n",
       "<table border=\"1\" class=\"dataframe\">\n",
       "  <thead>\n",
       "    <tr style=\"text-align: right;\">\n",
       "      <th></th>\n",
       "      <th>TransactionID</th>\n",
       "      <th>TransactionDate</th>\n",
       "      <th>UserID</th>\n",
       "      <th>ProductID</th>\n",
       "      <th>Quantity</th>\n",
       "    </tr>\n",
       "  </thead>\n",
       "  <tbody>\n",
       "    <tr>\n",
       "      <th>0</th>\n",
       "      <td>1</td>\n",
       "      <td>2010-08-21</td>\n",
       "      <td>7.0</td>\n",
       "      <td>2</td>\n",
       "      <td>1</td>\n",
       "    </tr>\n",
       "    <tr>\n",
       "      <th>1</th>\n",
       "      <td>2</td>\n",
       "      <td>2011-05-26</td>\n",
       "      <td>3.0</td>\n",
       "      <td>4</td>\n",
       "      <td>1</td>\n",
       "    </tr>\n",
       "    <tr>\n",
       "      <th>2</th>\n",
       "      <td>3</td>\n",
       "      <td>2011-06-16</td>\n",
       "      <td>3.0</td>\n",
       "      <td>3</td>\n",
       "      <td>1</td>\n",
       "    </tr>\n",
       "    <tr>\n",
       "      <th>3</th>\n",
       "      <td>4</td>\n",
       "      <td>2012-08-26</td>\n",
       "      <td>1.0</td>\n",
       "      <td>2</td>\n",
       "      <td>3</td>\n",
       "    </tr>\n",
       "    <tr>\n",
       "      <th>4</th>\n",
       "      <td>5</td>\n",
       "      <td>2013-06-06</td>\n",
       "      <td>2.0</td>\n",
       "      <td>4</td>\n",
       "      <td>1</td>\n",
       "    </tr>\n",
       "    <tr>\n",
       "      <th>5</th>\n",
       "      <td>6</td>\n",
       "      <td>2013-12-23</td>\n",
       "      <td>2.0</td>\n",
       "      <td>5</td>\n",
       "      <td>6</td>\n",
       "    </tr>\n",
       "    <tr>\n",
       "      <th>6</th>\n",
       "      <td>7</td>\n",
       "      <td>2013-12-30</td>\n",
       "      <td>3.0</td>\n",
       "      <td>4</td>\n",
       "      <td>1</td>\n",
       "    </tr>\n",
       "    <tr>\n",
       "      <th>7</th>\n",
       "      <td>8</td>\n",
       "      <td>2014-04-24</td>\n",
       "      <td>NaN</td>\n",
       "      <td>2</td>\n",
       "      <td>3</td>\n",
       "    </tr>\n",
       "    <tr>\n",
       "      <th>8</th>\n",
       "      <td>9</td>\n",
       "      <td>2015-04-24</td>\n",
       "      <td>7.0</td>\n",
       "      <td>4</td>\n",
       "      <td>3</td>\n",
       "    </tr>\n",
       "    <tr>\n",
       "      <th>9</th>\n",
       "      <td>10</td>\n",
       "      <td>2016-05-08</td>\n",
       "      <td>3.0</td>\n",
       "      <td>4</td>\n",
       "      <td>4</td>\n",
       "    </tr>\n",
       "  </tbody>\n",
       "</table>\n",
       "</div>"
      ],
      "text/plain": [
       "   TransactionID TransactionDate  UserID  ProductID  Quantity\n",
       "0              1      2010-08-21     7.0          2         1\n",
       "1              2      2011-05-26     3.0          4         1\n",
       "2              3      2011-06-16     3.0          3         1\n",
       "3              4      2012-08-26     1.0          2         3\n",
       "4              5      2013-06-06     2.0          4         1\n",
       "5              6      2013-12-23     2.0          5         6\n",
       "6              7      2013-12-30     3.0          4         1\n",
       "7              8      2014-04-24     NaN          2         3\n",
       "8              9      2015-04-24     7.0          4         3\n",
       "9             10      2016-05-08     3.0          4         4"
      ]
     },
     "execution_count": 97,
     "metadata": {},
     "output_type": "execute_result"
    }
   ],
   "source": [
    "df"
   ]
  },
  {
   "cell_type": "code",
   "execution_count": 6,
   "id": "8106c74a",
   "metadata": {},
   "outputs": [],
   "source": [
    "cols=pd.unique(['ProductID','Quantity', 'TransactionDate', 'TransactionID', 'UserID']+df.columns.values.tolist())"
   ]
  },
  {
   "cell_type": "code",
   "execution_count": 100,
   "id": "b90174cb",
   "metadata": {},
   "outputs": [
    {
     "data": {
      "text/html": [
       "<div>\n",
       "<style scoped>\n",
       "    .dataframe tbody tr th:only-of-type {\n",
       "        vertical-align: middle;\n",
       "    }\n",
       "\n",
       "    .dataframe tbody tr th {\n",
       "        vertical-align: top;\n",
       "    }\n",
       "\n",
       "    .dataframe thead th {\n",
       "        text-align: right;\n",
       "    }\n",
       "</style>\n",
       "<table border=\"1\" class=\"dataframe\">\n",
       "  <thead>\n",
       "    <tr style=\"text-align: right;\">\n",
       "      <th></th>\n",
       "      <th>ProductID</th>\n",
       "      <th>Quantity</th>\n",
       "      <th>TransactionDate</th>\n",
       "      <th>TransactionID</th>\n",
       "      <th>UserID</th>\n",
       "    </tr>\n",
       "  </thead>\n",
       "  <tbody>\n",
       "    <tr>\n",
       "      <th>0</th>\n",
       "      <td>2</td>\n",
       "      <td>1</td>\n",
       "      <td>2010-08-21</td>\n",
       "      <td>1</td>\n",
       "      <td>7.0</td>\n",
       "    </tr>\n",
       "    <tr>\n",
       "      <th>1</th>\n",
       "      <td>4</td>\n",
       "      <td>1</td>\n",
       "      <td>2011-05-26</td>\n",
       "      <td>2</td>\n",
       "      <td>3.0</td>\n",
       "    </tr>\n",
       "    <tr>\n",
       "      <th>2</th>\n",
       "      <td>3</td>\n",
       "      <td>1</td>\n",
       "      <td>2011-06-16</td>\n",
       "      <td>3</td>\n",
       "      <td>3.0</td>\n",
       "    </tr>\n",
       "    <tr>\n",
       "      <th>3</th>\n",
       "      <td>2</td>\n",
       "      <td>3</td>\n",
       "      <td>2012-08-26</td>\n",
       "      <td>4</td>\n",
       "      <td>1.0</td>\n",
       "    </tr>\n",
       "    <tr>\n",
       "      <th>4</th>\n",
       "      <td>4</td>\n",
       "      <td>1</td>\n",
       "      <td>2013-06-06</td>\n",
       "      <td>5</td>\n",
       "      <td>2.0</td>\n",
       "    </tr>\n",
       "    <tr>\n",
       "      <th>5</th>\n",
       "      <td>5</td>\n",
       "      <td>6</td>\n",
       "      <td>2013-12-23</td>\n",
       "      <td>6</td>\n",
       "      <td>2.0</td>\n",
       "    </tr>\n",
       "    <tr>\n",
       "      <th>6</th>\n",
       "      <td>4</td>\n",
       "      <td>1</td>\n",
       "      <td>2013-12-30</td>\n",
       "      <td>7</td>\n",
       "      <td>3.0</td>\n",
       "    </tr>\n",
       "    <tr>\n",
       "      <th>7</th>\n",
       "      <td>2</td>\n",
       "      <td>3</td>\n",
       "      <td>2014-04-24</td>\n",
       "      <td>8</td>\n",
       "      <td>NaN</td>\n",
       "    </tr>\n",
       "    <tr>\n",
       "      <th>8</th>\n",
       "      <td>4</td>\n",
       "      <td>3</td>\n",
       "      <td>2015-04-24</td>\n",
       "      <td>9</td>\n",
       "      <td>7.0</td>\n",
       "    </tr>\n",
       "    <tr>\n",
       "      <th>9</th>\n",
       "      <td>4</td>\n",
       "      <td>4</td>\n",
       "      <td>2016-05-08</td>\n",
       "      <td>10</td>\n",
       "      <td>3.0</td>\n",
       "    </tr>\n",
       "  </tbody>\n",
       "</table>\n",
       "</div>"
      ],
      "text/plain": [
       "   ProductID  Quantity TransactionDate  TransactionID  UserID\n",
       "0          2         1      2010-08-21              1     7.0\n",
       "1          4         1      2011-05-26              2     3.0\n",
       "2          3         1      2011-06-16              3     3.0\n",
       "3          2         3      2012-08-26              4     1.0\n",
       "4          4         1      2013-06-06              5     2.0\n",
       "5          5         6      2013-12-23              6     2.0\n",
       "6          4         1      2013-12-30              7     3.0\n",
       "7          2         3      2014-04-24              8     NaN\n",
       "8          4         3      2015-04-24              9     7.0\n",
       "9          4         4      2016-05-08             10     3.0"
      ]
     },
     "execution_count": 100,
     "metadata": {},
     "output_type": "execute_result"
    }
   ],
   "source": [
    "df[cols]"
   ]
  },
  {
   "cell_type": "code",
   "execution_count": 7,
   "id": "dbf4d05f",
   "metadata": {},
   "outputs": [],
   "source": [
    "cols = pd.unique(['UserID']+df.columns.values.tolist())"
   ]
  },
  {
   "cell_type": "code",
   "execution_count": 102,
   "id": "cd606269",
   "metadata": {},
   "outputs": [
    {
     "data": {
      "text/html": [
       "<div>\n",
       "<style scoped>\n",
       "    .dataframe tbody tr th:only-of-type {\n",
       "        vertical-align: middle;\n",
       "    }\n",
       "\n",
       "    .dataframe tbody tr th {\n",
       "        vertical-align: top;\n",
       "    }\n",
       "\n",
       "    .dataframe thead th {\n",
       "        text-align: right;\n",
       "    }\n",
       "</style>\n",
       "<table border=\"1\" class=\"dataframe\">\n",
       "  <thead>\n",
       "    <tr style=\"text-align: right;\">\n",
       "      <th></th>\n",
       "      <th>UserID</th>\n",
       "      <th>TransactionID</th>\n",
       "      <th>TransactionDate</th>\n",
       "      <th>ProductID</th>\n",
       "      <th>Quantity</th>\n",
       "    </tr>\n",
       "  </thead>\n",
       "  <tbody>\n",
       "    <tr>\n",
       "      <th>0</th>\n",
       "      <td>7.0</td>\n",
       "      <td>1</td>\n",
       "      <td>2010-08-21</td>\n",
       "      <td>2</td>\n",
       "      <td>1</td>\n",
       "    </tr>\n",
       "    <tr>\n",
       "      <th>1</th>\n",
       "      <td>3.0</td>\n",
       "      <td>2</td>\n",
       "      <td>2011-05-26</td>\n",
       "      <td>4</td>\n",
       "      <td>1</td>\n",
       "    </tr>\n",
       "    <tr>\n",
       "      <th>2</th>\n",
       "      <td>3.0</td>\n",
       "      <td>3</td>\n",
       "      <td>2011-06-16</td>\n",
       "      <td>3</td>\n",
       "      <td>1</td>\n",
       "    </tr>\n",
       "    <tr>\n",
       "      <th>3</th>\n",
       "      <td>1.0</td>\n",
       "      <td>4</td>\n",
       "      <td>2012-08-26</td>\n",
       "      <td>2</td>\n",
       "      <td>3</td>\n",
       "    </tr>\n",
       "    <tr>\n",
       "      <th>4</th>\n",
       "      <td>2.0</td>\n",
       "      <td>5</td>\n",
       "      <td>2013-06-06</td>\n",
       "      <td>4</td>\n",
       "      <td>1</td>\n",
       "    </tr>\n",
       "    <tr>\n",
       "      <th>5</th>\n",
       "      <td>2.0</td>\n",
       "      <td>6</td>\n",
       "      <td>2013-12-23</td>\n",
       "      <td>5</td>\n",
       "      <td>6</td>\n",
       "    </tr>\n",
       "    <tr>\n",
       "      <th>6</th>\n",
       "      <td>3.0</td>\n",
       "      <td>7</td>\n",
       "      <td>2013-12-30</td>\n",
       "      <td>4</td>\n",
       "      <td>1</td>\n",
       "    </tr>\n",
       "    <tr>\n",
       "      <th>7</th>\n",
       "      <td>NaN</td>\n",
       "      <td>8</td>\n",
       "      <td>2014-04-24</td>\n",
       "      <td>2</td>\n",
       "      <td>3</td>\n",
       "    </tr>\n",
       "    <tr>\n",
       "      <th>8</th>\n",
       "      <td>7.0</td>\n",
       "      <td>9</td>\n",
       "      <td>2015-04-24</td>\n",
       "      <td>4</td>\n",
       "      <td>3</td>\n",
       "    </tr>\n",
       "    <tr>\n",
       "      <th>9</th>\n",
       "      <td>3.0</td>\n",
       "      <td>10</td>\n",
       "      <td>2016-05-08</td>\n",
       "      <td>4</td>\n",
       "      <td>4</td>\n",
       "    </tr>\n",
       "  </tbody>\n",
       "</table>\n",
       "</div>"
      ],
      "text/plain": [
       "   UserID  TransactionID TransactionDate  ProductID  Quantity\n",
       "0     7.0              1      2010-08-21          2         1\n",
       "1     3.0              2      2011-05-26          4         1\n",
       "2     3.0              3      2011-06-16          3         1\n",
       "3     1.0              4      2012-08-26          2         3\n",
       "4     2.0              5      2013-06-06          4         1\n",
       "5     2.0              6      2013-12-23          5         6\n",
       "6     3.0              7      2013-12-30          4         1\n",
       "7     NaN              8      2014-04-24          2         3\n",
       "8     7.0              9      2015-04-24          4         3\n",
       "9     3.0             10      2016-05-08          4         4"
      ]
     },
     "execution_count": 102,
     "metadata": {},
     "output_type": "execute_result"
    }
   ],
   "source": [
    "df[cols]"
   ]
  },
  {
   "cell_type": "code",
   "execution_count": 45,
   "id": "25941e8d",
   "metadata": {},
   "outputs": [
    {
     "name": "stdout",
     "output_type": "stream",
     "text": [
      "0   2010-08-21\n",
      "1   2011-05-26\n",
      "2   2011-06-16\n",
      "3   2012-08-26\n",
      "4   2013-06-06\n",
      "5   2013-12-23\n",
      "6   2013-12-30\n",
      "7   2014-04-24\n",
      "8   2015-04-24\n",
      "9   2016-05-08\n",
      "Name: TransactionDate, dtype: datetime64[ns]\n",
      "['2010-08-21T00:00:00.000000000' '2011-05-26T00:00:00.000000000'\n",
      " '2011-06-16T00:00:00.000000000' '2012-08-26T00:00:00.000000000'\n",
      " '2013-06-06T00:00:00.000000000' '2013-12-23T00:00:00.000000000'\n",
      " '2013-12-30T00:00:00.000000000' '2014-04-24T00:00:00.000000000'\n",
      " '2015-04-24T00:00:00.000000000' '2016-05-08T00:00:00.000000000']\n"
     ]
    }
   ],
   "source": [
    "second_column = df.iloc[:, 1]  # Returns a Series\n",
    "second_column_array = df.iloc[:, 1].values  # Returns a NumPy array\n",
    "\n",
    "print(second_column)  # Pandas Series\n",
    "print(second_column_array)  # NumPy array"
   ]
  },
  {
   "cell_type": "code",
   "execution_count": 46,
   "id": "6b3df8ee",
   "metadata": {},
   "outputs": [],
   "source": [
    "import pandas as pd\n",
    "df=pd.read_csv('transactions.csv')"
   ]
  },
  {
   "cell_type": "code",
   "execution_count": 9,
   "id": "491fe424",
   "metadata": {},
   "outputs": [
    {
     "name": "stdout",
     "output_type": "stream",
     "text": [
      "0    2010-08-21\n",
      "1    2011-05-26\n",
      "2    2011-06-16\n",
      "3    2012-08-26\n",
      "4    2013-06-06\n",
      "5    2013-12-23\n",
      "6    2013-12-30\n",
      "7    2014-04-24\n",
      "8    2015-04-24\n",
      "9    2016-05-08\n",
      "Name: TransactionDate, dtype: object\n",
      "['2010-08-21' '2011-05-26' '2011-06-16' '2012-08-26' '2013-06-06'\n",
      " '2013-12-23' '2013-12-30' '2014-04-24' '2015-04-24' '2016-05-08']\n"
     ]
    }
   ],
   "source": [
    "second_column = df.iloc[:, 1]  # Returns a Series\n",
    "second_column_array = df.iloc[:, 1].values  # Returns a NumPy array\n",
    "\n",
    "print(second_column)  # Pandas Series\n",
    "print(second_column_array)  # NumPy array"
   ]
  },
  {
   "cell_type": "code",
   "execution_count": 10,
   "id": "53092383",
   "metadata": {},
   "outputs": [
    {
     "data": {
      "text/html": [
       "<div>\n",
       "<style scoped>\n",
       "    .dataframe tbody tr th:only-of-type {\n",
       "        vertical-align: middle;\n",
       "    }\n",
       "\n",
       "    .dataframe tbody tr th {\n",
       "        vertical-align: top;\n",
       "    }\n",
       "\n",
       "    .dataframe thead th {\n",
       "        text-align: right;\n",
       "    }\n",
       "</style>\n",
       "<table border=\"1\" class=\"dataframe\">\n",
       "  <thead>\n",
       "    <tr style=\"text-align: right;\">\n",
       "      <th></th>\n",
       "      <th>TransactionID</th>\n",
       "      <th>TransactionDate</th>\n",
       "      <th>UserID</th>\n",
       "      <th>ProductID</th>\n",
       "      <th>Quantity</th>\n",
       "    </tr>\n",
       "  </thead>\n",
       "  <tbody>\n",
       "    <tr>\n",
       "      <th>0</th>\n",
       "      <td>1</td>\n",
       "      <td>2010-08-21</td>\n",
       "      <td>7.0</td>\n",
       "      <td>2</td>\n",
       "      <td>1</td>\n",
       "    </tr>\n",
       "    <tr>\n",
       "      <th>1</th>\n",
       "      <td>2</td>\n",
       "      <td>2011-05-26</td>\n",
       "      <td>3.0</td>\n",
       "      <td>4</td>\n",
       "      <td>1</td>\n",
       "    </tr>\n",
       "    <tr>\n",
       "      <th>2</th>\n",
       "      <td>3</td>\n",
       "      <td>2011-06-16</td>\n",
       "      <td>3.0</td>\n",
       "      <td>3</td>\n",
       "      <td>1</td>\n",
       "    </tr>\n",
       "    <tr>\n",
       "      <th>3</th>\n",
       "      <td>4</td>\n",
       "      <td>2012-08-26</td>\n",
       "      <td>1.0</td>\n",
       "      <td>2</td>\n",
       "      <td>3</td>\n",
       "    </tr>\n",
       "    <tr>\n",
       "      <th>4</th>\n",
       "      <td>5</td>\n",
       "      <td>2013-06-06</td>\n",
       "      <td>2.0</td>\n",
       "      <td>4</td>\n",
       "      <td>1</td>\n",
       "    </tr>\n",
       "    <tr>\n",
       "      <th>5</th>\n",
       "      <td>6</td>\n",
       "      <td>2013-12-23</td>\n",
       "      <td>2.0</td>\n",
       "      <td>5</td>\n",
       "      <td>6</td>\n",
       "    </tr>\n",
       "    <tr>\n",
       "      <th>6</th>\n",
       "      <td>7</td>\n",
       "      <td>2013-12-30</td>\n",
       "      <td>3.0</td>\n",
       "      <td>4</td>\n",
       "      <td>1</td>\n",
       "    </tr>\n",
       "    <tr>\n",
       "      <th>7</th>\n",
       "      <td>8</td>\n",
       "      <td>2014-04-24</td>\n",
       "      <td>NaN</td>\n",
       "      <td>2</td>\n",
       "      <td>3</td>\n",
       "    </tr>\n",
       "    <tr>\n",
       "      <th>8</th>\n",
       "      <td>9</td>\n",
       "      <td>2015-04-24</td>\n",
       "      <td>7.0</td>\n",
       "      <td>4</td>\n",
       "      <td>3</td>\n",
       "    </tr>\n",
       "    <tr>\n",
       "      <th>9</th>\n",
       "      <td>10</td>\n",
       "      <td>2016-05-08</td>\n",
       "      <td>3.0</td>\n",
       "      <td>4</td>\n",
       "      <td>4</td>\n",
       "    </tr>\n",
       "  </tbody>\n",
       "</table>\n",
       "</div>"
      ],
      "text/plain": [
       "   TransactionID TransactionDate  UserID  ProductID  Quantity\n",
       "0              1      2010-08-21     7.0          2         1\n",
       "1              2      2011-05-26     3.0          4         1\n",
       "2              3      2011-06-16     3.0          3         1\n",
       "3              4      2012-08-26     1.0          2         3\n",
       "4              5      2013-06-06     2.0          4         1\n",
       "5              6      2013-12-23     2.0          5         6\n",
       "6              7      2013-12-30     3.0          4         1\n",
       "7              8      2014-04-24     NaN          2         3\n",
       "8              9      2015-04-24     7.0          4         3\n",
       "9             10      2016-05-08     3.0          4         4"
      ]
     },
     "execution_count": 10,
     "metadata": {},
     "output_type": "execute_result"
    }
   ],
   "source": [
    "df\n"
   ]
  },
  {
   "cell_type": "code",
   "execution_count": 11,
   "id": "e330e446",
   "metadata": {},
   "outputs": [
    {
     "name": "stdout",
     "output_type": "stream",
     "text": [
      "[2 4 3 2 4 5 4 2 4 4]\n"
     ]
    }
   ],
   "source": [
    "product=df.iloc[:,3].values\n",
    "print(product);"
   ]
  },
  {
   "cell_type": "code",
   "execution_count": 12,
   "id": "ae9cb2e4",
   "metadata": {},
   "outputs": [
    {
     "name": "stdout",
     "output_type": "stream",
     "text": [
      "   TransactionID TransactionDate  UserID  ProductID  Quantity\n",
      "1              2      2011-05-26     3.0          4         1\n",
      "3              4      2012-08-26     1.0          2         3\n",
      "6              7      2013-12-30     3.0          4         1\n"
     ]
    }
   ],
   "source": [
    "subset_rows = df.iloc[[1,3,6]]\n",
    "print(subset_rows)"
   ]
  },
  {
   "cell_type": "code",
   "execution_count": 13,
   "id": "4cce3324",
   "metadata": {},
   "outputs": [
    {
     "name": "stdout",
     "output_type": "stream",
     "text": [
      "   TransactionID TransactionDate  UserID  ProductID  Quantity\n",
      "0              1      2010-08-21     7.0          2         1\n",
      "1              2      2011-05-26     3.0          4         1\n",
      "2              3      2011-06-16     3.0          3         1\n"
     ]
    }
   ],
   "source": [
    "subset_rows = df.iloc[[0, 1,2]]\n",
    "print(subset_rows)"
   ]
  },
  {
   "cell_type": "code",
   "execution_count": 14,
   "id": "9196af39",
   "metadata": {},
   "outputs": [
    {
     "name": "stdout",
     "output_type": "stream",
     "text": [
      "   TransactionID TransactionDate  UserID  ProductID  Quantity\n",
      "8              9      2015-04-24     7.0          4         3\n",
      "9             10      2016-05-08     3.0          4         4\n"
     ]
    }
   ],
   "source": [
    "subset_rows = df.iloc[[8,9]]\n",
    "print(subset_rows)"
   ]
  },
  {
   "cell_type": "code",
   "execution_count": 15,
   "id": "61c22217",
   "metadata": {},
   "outputs": [
    {
     "name": "stdout",
     "output_type": "stream",
     "text": [
      "   TransactionID TransactionDate  UserID  ProductID  Quantity\n",
      "0              1      2010-08-21     7.0          2         1\n",
      "1              2      2011-05-26     3.0          4         1\n",
      "2              3      2011-06-16     3.0          3         1\n",
      "3              4      2012-08-26     1.0          2         3\n",
      "4              5      2013-06-06     2.0          4         1\n",
      "5              6      2013-12-23     2.0          5         6\n",
      "6              7      2013-12-30     3.0          4         1\n",
      "7              8      2014-04-24     NaN          2         3\n",
      "9             10      2016-05-08     3.0          4         4\n"
     ]
    }
   ],
   "source": [
    "subset_rows = df.drop(index=[8])\n",
    "print(subset_rows)"
   ]
  },
  {
   "cell_type": "code",
   "execution_count": 16,
   "id": "ef9c9d22",
   "metadata": {},
   "outputs": [
    {
     "name": "stdout",
     "output_type": "stream",
     "text": [
      "   TransactionID TransactionDate  UserID  ProductID  Quantity\n",
      "0              1      2010-08-21     7.0          2         1\n",
      "1              2      2011-05-26     3.0          4         1\n",
      "2              3      2011-06-16     3.0          3         1\n",
      "3              4      2012-08-26     1.0          2         3\n",
      "4              5      2013-06-06     2.0          4         1\n",
      "5              6      2013-12-23     2.0          5         6\n",
      "6              7      2013-12-30     3.0          4         1\n",
      "7              8      2014-04-24     NaN          2         3\n"
     ]
    }
   ],
   "source": [
    "subset_rows = df.iloc[:-2]\n",
    "print(subset_rows)"
   ]
  },
  {
   "cell_type": "code",
   "execution_count": 17,
   "id": "a1ceccb8",
   "metadata": {},
   "outputs": [
    {
     "name": "stdout",
     "output_type": "stream",
     "text": [
      "   TransactionID TransactionDate  UserID  ProductID  Quantity\n",
      "0              1      2010-08-21     7.0          2         1\n",
      "1              2      2011-05-26     3.0          4         1\n",
      "2              3      2011-06-16     3.0          3         1\n",
      "3              4      2012-08-26     1.0          2         3\n",
      "4              5      2013-06-06     2.0          4         1\n",
      "5              6      2013-12-23     2.0          5         6\n",
      "6              7      2013-12-30     3.0          4         1\n"
     ]
    }
   ],
   "source": [
    "subset_rows = df.iloc[:-3]\n",
    "print(subset_rows)"
   ]
  },
  {
   "cell_type": "code",
   "execution_count": 18,
   "id": "b380c4bf",
   "metadata": {},
   "outputs": [
    {
     "name": "stdout",
     "output_type": "stream",
     "text": [
      "   TransactionID TransactionDate  UserID  ProductID  Quantity\n",
      "3              4      2012-08-26     1.0          2         3\n",
      "5              6      2013-12-23     2.0          5         6\n",
      "7              8      2014-04-24     NaN          2         3\n",
      "8              9      2015-04-24     7.0          4         3\n",
      "9             10      2016-05-08     3.0          4         4\n"
     ]
    }
   ],
   "source": [
    "subset = df[df['Quantity'] > 1]\n",
    "print(subset)"
   ]
  },
  {
   "cell_type": "code",
   "execution_count": 19,
   "id": "3b18e7b5",
   "metadata": {},
   "outputs": [
    {
     "name": "stdout",
     "output_type": "stream",
     "text": [
      "   TransactionID TransactionDate  UserID  ProductID  Quantity\n",
      "5              6      2013-12-23     2.0          5         6\n"
     ]
    }
   ],
   "source": [
    "subset = df[(df[\"Quantity\"] > 1) & (df[\"UserID\"] == 2)]\n",
    "print(subset)"
   ]
  },
  {
   "cell_type": "code",
   "execution_count": 20,
   "id": "649137b3",
   "metadata": {},
   "outputs": [
    {
     "name": "stdout",
     "output_type": "stream",
     "text": [
      "   TransactionID TransactionDate  UserID  ProductID  Quantity\n",
      "0              1      2010-08-21     7.0          2         1\n",
      "1              2      2011-05-26     3.0          4         1\n",
      "2              3      2011-06-16     3.0          3         1\n",
      "3              4      2012-08-26     1.0          2         3\n",
      "5              6      2013-12-23     2.0          5         6\n",
      "6              7      2013-12-30     3.0          4         1\n",
      "8              9      2015-04-24     7.0          4         3\n",
      "9             10      2016-05-08     3.0          4         4\n"
     ]
    }
   ],
   "source": [
    "subset = df[(df[\"Quantity\"] + df[\"UserID\"])>3]\n",
    "print(subset)"
   ]
  },
  {
   "cell_type": "code",
   "execution_count": null,
   "id": "d8b965d9",
   "metadata": {},
   "outputs": [],
   "source": []
  },
  {
   "cell_type": "code",
   "execution_count": 22,
   "id": "a2d52b25",
   "metadata": {},
   "outputs": [
    {
     "name": "stdout",
     "output_type": "stream",
     "text": [
      "    A    B\n",
      "0  10  100\n",
      "2  30  300\n",
      "4  50  500\n"
     ]
    }
   ],
   "source": [
    "import pandas as pd\n",
    "import numpy as np\n",
    "\n",
    "# Sample DataFrame\n",
    "data = {'A': [10, 20, 30, 40, 50], 'B': [100, 200, 300, 400, 500]}\n",
    "df = pd.DataFrame(data)\n",
    "\n",
    "# External Boolean array\n",
    "foo = np.array([True, False, True, False, True])\n",
    "\n",
    "# Subset rows where foo is True\n",
    "subset_rows = df[foo]\n",
    "\n",
    "print(subset_rows)\n"
   ]
  },
  {
   "cell_type": "code",
   "execution_count": 23,
   "id": "f0e5bf1b",
   "metadata": {},
   "outputs": [
    {
     "name": "stdout",
     "output_type": "stream",
     "text": [
      "    A    B\n",
      "0  10  100\n",
      "2  30  300\n",
      "4  50  500\n"
     ]
    }
   ],
   "source": [
    "bar = np.array([1, -2, 3, -4, 5])  # Only keep rows where bar > 0\n",
    "\n",
    "# Subset rows where bar is positive\n",
    "subset_rows = df[bar > 0]\n",
    "\n",
    "print(subset_rows)"
   ]
  },
  {
   "cell_type": "code",
   "execution_count": 24,
   "id": "c2ff5c4b",
   "metadata": {},
   "outputs": [
    {
     "name": "stdout",
     "output_type": "stream",
     "text": [
      "    A    B\n",
      "1  20  200\n",
      "3  40  400\n"
     ]
    }
   ],
   "source": [
    "bar = np.array([1, -2, 3, -4, 5])  # Only keep rows where bar > 0\n",
    "\n",
    "# Subset rows where bar is positive\n",
    "subset_rows = df[bar <0]\n",
    "\n",
    "print(subset_rows)"
   ]
  },
  {
   "cell_type": "code",
   "execution_count": 42,
   "id": "8f92cce9",
   "metadata": {},
   "outputs": [
    {
     "name": "stdout",
     "output_type": "stream",
     "text": [
      "  TransactionDate  ProductID\n",
      "0      2010-08-21          2\n",
      "1      2011-05-26          4\n",
      "2      2011-06-16          3\n",
      "3      2012-08-26          2\n",
      "4      2013-06-06          4\n",
      "5      2013-12-23          5\n",
      "6      2013-12-30          4\n",
      "7      2014-04-24          2\n",
      "8      2015-04-24          4\n",
      "9      2016-05-08          4\n"
     ]
    }
   ],
   "source": [
    "subset_columns = df.iloc[:, [1, 3]]\n",
    "\n",
    "print(subset_columns)"
   ]
  },
  {
   "cell_type": "code",
   "execution_count": 26,
   "id": "fcb6b51e",
   "metadata": {},
   "outputs": [],
   "source": [
    "import pandas as pd\n",
    "df=pd.read_csv('transactions.csv')"
   ]
  },
  {
   "cell_type": "code",
   "execution_count": 27,
   "id": "07ca785e",
   "metadata": {},
   "outputs": [
    {
     "name": "stdout",
     "output_type": "stream",
     "text": [
      "   TransactionID TransactionDate\n",
      "0              1      2010-08-21\n",
      "1              2      2011-05-26\n",
      "2              3      2011-06-16\n",
      "3              4      2012-08-26\n",
      "4              5      2013-06-06\n",
      "5              6      2013-12-23\n",
      "6              7      2013-12-30\n",
      "7              8      2014-04-24\n",
      "8              9      2015-04-24\n",
      "9             10      2016-05-08\n"
     ]
    }
   ],
   "source": [
    "columns_to_select = ['TransactionID', 'TransactionDate']\n",
    "subset_columns = df[columns_to_select]\n",
    "print(subset_columns)"
   ]
  },
  {
   "cell_type": "code",
   "execution_count": 28,
   "id": "b4877fd0",
   "metadata": {},
   "outputs": [
    {
     "name": "stdout",
     "output_type": "stream",
     "text": [
      "   TransactionID TransactionDate\n",
      "3              4      2012-08-26\n",
      "5              6      2013-12-23\n",
      "7              8      2014-04-24\n",
      "8              9      2015-04-24\n",
      "9             10      2016-05-08\n"
     ]
    }
   ],
   "source": [
    "subset = df[df['Quantity'] > 1][['TransactionID',\n",
    "'TransactionDate']]\n",
    "print(subset)"
   ]
  },
  {
   "cell_type": "code",
   "execution_count": 29,
   "id": "8da8af14",
   "metadata": {},
   "outputs": [
    {
     "name": "stdout",
     "output_type": "stream",
     "text": [
      "   TransactionID TransactionDate\n",
      "0              1      2010-08-21\n",
      "1              2      2011-05-26\n",
      "2              3      2011-06-16\n",
      "3              4      2012-08-26\n",
      "4              5      2013-06-06\n",
      "5              6      2013-12-23\n",
      "6              7      2013-12-30\n",
      "7              8      2014-04-24\n",
      "8              9      2015-04-24\n",
      "9             10      2016-05-08\n"
     ]
    }
   ],
   "source": [
    "columns_to_select = ['TransactionID', 'TransactionDate']\n",
    "subset_columns = df[columns_to_select]\n",
    "print(subset_columns)"
   ]
  },
  {
   "cell_type": "code",
   "execution_count": 30,
   "id": "da95b2e7",
   "metadata": {},
   "outputs": [
    {
     "name": "stdout",
     "output_type": "stream",
     "text": [
      "   TransactionID TransactionDate  UserID\n",
      "0              1      2010-08-21     7.0\n",
      "1              2      2011-05-26     3.0\n",
      "2              3      2011-06-16     3.0\n",
      "3              4      2012-08-26     1.0\n",
      "4              5      2013-06-06     2.0\n",
      "5              6      2013-12-23     2.0\n",
      "6              7      2013-12-30     3.0\n",
      "7              8      2014-04-24     NaN\n",
      "8              9      2015-04-24     7.0\n",
      "9             10      2016-05-08     3.0\n"
     ]
    }
   ],
   "source": [
    "columns_to_exclude = ['Quantity', 'ProductID']\n",
    "subset_columns_excluded = df[[col for col in df.columns if col not\n",
    "in columns_to_exclude]]\n",
    "print(subset_columns_excluded)"
   ]
  },
  {
   "cell_type": "code",
   "execution_count": 31,
   "id": "7b9d494e",
   "metadata": {},
   "outputs": [
    {
     "name": "stdout",
     "output_type": "stream",
     "text": [
      "   TransactionID TransactionDate  UserID  ProductID  Quantity  Foo\n",
      "0              1      2010-08-21     7.0          2         1  9.0\n",
      "1              2      2011-05-26     3.0          4         1  7.0\n",
      "2              3      2011-06-16     3.0          3         1  6.0\n",
      "3              4      2012-08-26     1.0          2         3  3.0\n",
      "4              5      2013-06-06     2.0          4         1  6.0\n"
     ]
    }
   ],
   "source": [
    "df['Foo'] = df['UserID'] + df['ProductID']\n",
    "print(df.head())"
   ]
  },
  {
   "cell_type": "code",
   "execution_count": 36,
   "id": "65082edf",
   "metadata": {},
   "outputs": [],
   "source": [
    "df.loc[df['UserID'] == 2, 'Quantity'] = 3\n"
   ]
  },
  {
   "cell_type": "code",
   "execution_count": null,
   "id": "3c57b84f",
   "metadata": {},
   "outputs": [],
   "source": []
  },
  {
   "cell_type": "code",
   "execution_count": 41,
   "id": "fb5bf097",
   "metadata": {},
   "outputs": [
    {
     "name": "stdout",
     "output_type": "stream",
     "text": [
      "TransactionID               int64\n",
      "TransactionDate    datetime64[ns]\n",
      "UserID                    float64\n",
      "ProductID                   int64\n",
      "Quantity                    int64\n",
      "Foo                       float64\n",
      "dtype: object\n"
     ]
    }
   ],
   "source": [
    "df['TransactionDate'] = pd.to_datetime(df['TransactionDate'])\n",
    "print(df.dtypes)"
   ]
  },
  {
   "cell_type": "code",
   "execution_count": 48,
   "id": "c1386323",
   "metadata": {},
   "outputs": [
    {
     "name": "stdout",
     "output_type": "stream",
     "text": [
      "   TransactionID TransactionDate  UserID  ProductID  Quantity  Foo  \\\n",
      "0              1      2010-08-21     7.0          2         1  9.0   \n",
      "1              2      2011-05-26     3.0          4         1  7.0   \n",
      "2              3      2011-06-16     3.0          3         1  6.0   \n",
      "3              4      2012-08-26     1.0          2         3  3.0   \n",
      "4              5      2013-06-06     2.0          4         1  6.0   \n",
      "\n",
      "   new_user_id  \n",
      "0          7.0  \n",
      "1          3.0  \n",
      "2          3.0  \n",
      "3          1.0  \n",
      "4          2.0  \n"
     ]
    }
   ],
   "source": [
    "df['new_user_id'] = df['UserID']\n",
    "print(df.head())"
   ]
  },
  {
   "cell_type": "code",
   "execution_count": 37,
   "id": "d91bc06a",
   "metadata": {},
   "outputs": [],
   "source": [
    "df.loc[df['UserID'] == 2, 'Quantity'] = 4"
   ]
  },
  {
   "cell_type": "code",
   "execution_count": null,
   "id": "298b3c5b",
   "metadata": {},
   "outputs": [],
   "source": []
  }
 ],
 "metadata": {
  "kernelspec": {
   "display_name": "Python 3",
   "language": "python",
   "name": "python3"
  },
  "language_info": {
   "codemirror_mode": {
    "name": "ipython",
    "version": 3
   },
   "file_extension": ".py",
   "mimetype": "text/x-python",
   "name": "python",
   "nbconvert_exporter": "python",
   "pygments_lexer": "ipython3",
   "version": "3.8.10"
  }
 },
 "nbformat": 4,
 "nbformat_minor": 5
}
